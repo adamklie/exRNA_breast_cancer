{
 "cells": [
  {
   "cell_type": "markdown",
   "metadata": {},
   "source": [
    "# exRNA Feature Table Qiime2 Analysis\n",
    "#### Adam Klie<br>05/30/2020"
   ]
  },
  {
   "cell_type": "markdown",
   "metadata": {},
   "source": [
    "## Import packages for analysis and plotting"
   ]
  },
  {
   "cell_type": "code",
   "execution_count": 307,
   "metadata": {},
   "outputs": [],
   "source": [
    "# Qiime2 analysis\n",
    "import qiime2\n",
    "import pandas as pd\n",
    "import numpy as np\n",
    "from qiime2.plugins import taxa, diversity, songbird, qurro\n",
    "import warnings\n",
    "warnings.filterwarnings('ignore')\n",
    "\n",
    "# Plotting\n",
    "import seaborn as sns\n",
    "import matplotlib.pyplot as plt\n",
    "from matplotlib import cm\n",
    "from matplotlib.colors import ListedColormap, LinearSegmentedColormap\n",
    "%matplotlib inline"
   ]
  },
  {
   "cell_type": "code",
   "execution_count": 27,
   "metadata": {},
   "outputs": [],
   "source": [
    "# Qiime2 results dir\n",
    "data_dir = '../results/qiime'"
   ]
  },
  {
   "cell_type": "markdown",
   "metadata": {},
   "source": [
    "## Data QC"
   ]
  },
  {
   "cell_type": "code",
   "execution_count": 231,
   "metadata": {},
   "outputs": [],
   "source": [
    "num_seqs = pd.read_csv('../results/num_seqs.tsv', sep='\\t').set_index(\"ID\")"
   ]
  },
  {
   "cell_type": "code",
   "execution_count": 232,
   "metadata": {},
   "outputs": [],
   "source": [
    "totals = num_seqs.sum()"
   ]
  },
  {
   "cell_type": "code",
   "execution_count": 250,
   "metadata": {},
   "outputs": [],
   "source": [
    "total_df = pd.DataFrame(data=[totals.index, totals.values]).T\n",
    "total_df.columns=[\"Sequence_Type\", \"Number_of_Sequences\"]\n",
    "total_df = total_df.loc[1:2]"
   ]
  },
  {
   "cell_type": "code",
   "execution_count": 308,
   "metadata": {},
   "outputs": [
    {
     "data": {
      "image/png": "[encoded data removed]",
      "text/plain": [
       "<Figure size 720x432 with 1 Axes>"
      ]
     },
     "metadata": {
      "needs_background": "light"
     },
     "output_type": "display_data"
    }
   ],
   "source": [
    "ax = plt.figure(figsize=(10,6))\n",
    "ax = sns.barplot(x=\"Sequence_Type\", y=\"Number_of_Sequences\", data=total_df)\n",
    "ax.text(0, 31276786+250000, '31276786 (3.08%)', color='black', ha=\"center\", fontsize=14)\n",
    "ax.text(1, 1840148+250000, '1840148 (0.18%)', color='black', ha=\"center\", fontsize=14)\n",
    "plt.savefig('../results/figures/data_qc.png')"
   ]
  },
  {
   "cell_type": "code",
   "execution_count": 239,
   "metadata": {},
   "outputs": [
    {
     "name": "stdout",
     "output_type": "stream",
     "text": [
      "Total number of unaligned reads: 31276786 (3.0809949121843307%%)\n"
     ]
    }
   ],
   "source": [
    "print(\"Total number of unaligned reads: {} ({}%%)\".format(totals.loc[\"UNALIGNED_READS\"], totals.loc[\"UNALIGNED_READS\"]/totals.loc[\"RAW_READS\"]*100))"
   ]
  },
  {
   "cell_type": "code",
   "execution_count": 241,
   "metadata": {},
   "outputs": [
    {
     "name": "stdout",
     "output_type": "stream",
     "text": [
      "Total number of classfied reads: 1840148 (0.1812681976231884%%)\n"
     ]
    }
   ],
   "source": [
    "print(\"Total number of classfied reads: {} ({}%%)\".format(totals.loc[\"CLASSIFIED_READS\"], totals.loc[\"CLASSIFIED_READS\"]/totals.loc[\"RAW_READS\"]*100))"
   ]
  },
  {
   "cell_type": "markdown",
   "metadata": {},
   "source": [
    "## Feature table overview\n",
    "1. Load metadata\n",
    "2. Visualize feature table statistics\n",
    "2. Save as pd.DataFrame\n",
    "3. Grab per feature counts"
   ]
  },
  {
   "cell_type": "markdown",
   "metadata": {},
   "source": [
    "#### Load metadata"
   ]
  },
  {
   "cell_type": "code",
   "execution_count": 28,
   "metadata": {},
   "outputs": [],
   "source": [
    "m_data = qiime2.Metadata.load('{}/sample_metadata.tsv'.format(data_dir))"
   ]
  },
  {
   "cell_type": "code",
   "execution_count": 29,
   "metadata": {},
   "outputs": [],
   "source": [
    "metadata_df = m_data.to_dataframe()"
   ]
  },
  {
   "cell_type": "code",
   "execution_count": 30,
   "metadata": {},
   "outputs": [
    {
     "data": {
      "text/html": [
       "<div>\n",
       "<style scoped>\n",
       "    .dataframe tbody tr th:only-of-type {\n",
       "        vertical-align: middle;\n",
       "    }\n",
       "\n",
       "    .dataframe tbody tr th {\n",
       "        vertical-align: top;\n",
       "    }\n",
       "\n",
       "    .dataframe thead th {\n",
       "        text-align: right;\n",
       "    }\n",
       "</style>\n",
       "<table border=\"1\" class=\"dataframe\">\n",
       "  <thead>\n",
       "    <tr style=\"text-align: right;\">\n",
       "      <th></th>\n",
       "      <th>gender</th>\n",
       "      <th>condition</th>\n",
       "      <th>recurrence</th>\n",
       "    </tr>\n",
       "    <tr>\n",
       "      <th>sampleid</th>\n",
       "      <th></th>\n",
       "      <th></th>\n",
       "      <th></th>\n",
       "    </tr>\n",
       "  </thead>\n",
       "  <tbody>\n",
       "    <tr>\n",
       "      <th>SRR9094428.unmapped</th>\n",
       "      <td>female</td>\n",
       "      <td>cancer</td>\n",
       "      <td>yes</td>\n",
       "    </tr>\n",
       "    <tr>\n",
       "      <th>SRR9094429.unmapped</th>\n",
       "      <td>female</td>\n",
       "      <td>cancer</td>\n",
       "      <td>yes</td>\n",
       "    </tr>\n",
       "    <tr>\n",
       "      <th>SRR9094430.unmapped</th>\n",
       "      <td>female</td>\n",
       "      <td>cancer</td>\n",
       "      <td>yes</td>\n",
       "    </tr>\n",
       "    <tr>\n",
       "      <th>SRR9094431.unmapped</th>\n",
       "      <td>female</td>\n",
       "      <td>cancer</td>\n",
       "      <td>yes</td>\n",
       "    </tr>\n",
       "    <tr>\n",
       "      <th>SRR9094432.unmapped</th>\n",
       "      <td>female</td>\n",
       "      <td>cancer</td>\n",
       "      <td>yes</td>\n",
       "    </tr>\n",
       "  </tbody>\n",
       "</table>\n",
       "</div>"
      ],
      "text/plain": [
       "                     gender condition recurrence\n",
       "sampleid                                        \n",
       "SRR9094428.unmapped  female    cancer        yes\n",
       "SRR9094429.unmapped  female    cancer        yes\n",
       "SRR9094430.unmapped  female    cancer        yes\n",
       "SRR9094431.unmapped  female    cancer        yes\n",
       "SRR9094432.unmapped  female    cancer        yes"
      ]
     },
     "execution_count": 30,
     "metadata": {},
     "output_type": "execute_result"
    }
   ],
   "source": [
    "metadata_df.head()"
   ]
  },
  {
   "cell_type": "code",
   "execution_count": 31,
   "metadata": {},
   "outputs": [],
   "source": [
    "f_table = qiime2.Artifact.load('{}/feature-table.qza'.format(data_dir))"
   ]
  },
  {
   "cell_type": "code",
   "execution_count": 310,
   "metadata": {},
   "outputs": [],
   "source": [
    "#qiime2.Visualization.load('{}/feature-table.qzv'.format(data_dir))"
   ]
  },
  {
   "cell_type": "code",
   "execution_count": 33,
   "metadata": {},
   "outputs": [],
   "source": [
    "feature_df = f_table.view(pd.DataFrame)"
   ]
  },
  {
   "cell_type": "code",
   "execution_count": 34,
   "metadata": {},
   "outputs": [
    {
     "data": {
      "text/html": [
       "<div>\n",
       "<style scoped>\n",
       "    .dataframe tbody tr th:only-of-type {\n",
       "        vertical-align: middle;\n",
       "    }\n",
       "\n",
       "    .dataframe tbody tr th {\n",
       "        vertical-align: top;\n",
       "    }\n",
       "\n",
       "    .dataframe thead th {\n",
       "        text-align: right;\n",
       "    }\n",
       "</style>\n",
       "<table border=\"1\" class=\"dataframe\">\n",
       "  <thead>\n",
       "    <tr style=\"text-align: right;\">\n",
       "      <th></th>\n",
       "      <th>80840</th>\n",
       "      <th>119060</th>\n",
       "      <th>32008</th>\n",
       "      <th>292</th>\n",
       "      <th>482957</th>\n",
       "      <th>60552</th>\n",
       "      <th>179879</th>\n",
       "      <th>488731</th>\n",
       "      <th>95486</th>\n",
       "      <th>60550</th>\n",
       "      <th>...</th>\n",
       "      <th>336988</th>\n",
       "      <th>712528</th>\n",
       "      <th>1954172</th>\n",
       "      <th>120962</th>\n",
       "      <th>106</th>\n",
       "      <th>2025876</th>\n",
       "      <th>277944</th>\n",
       "      <th>1714845</th>\n",
       "      <th>1349</th>\n",
       "      <th>1299</th>\n",
       "    </tr>\n",
       "  </thead>\n",
       "  <tbody>\n",
       "    <tr>\n",
       "      <th>SRR9094428.unmapped</th>\n",
       "      <td>225.0</td>\n",
       "      <td>37.0</td>\n",
       "      <td>395.0</td>\n",
       "      <td>322.0</td>\n",
       "      <td>52.0</td>\n",
       "      <td>30.0</td>\n",
       "      <td>22.0</td>\n",
       "      <td>21.0</td>\n",
       "      <td>17.0</td>\n",
       "      <td>11.0</td>\n",
       "      <td>...</td>\n",
       "      <td>0.0</td>\n",
       "      <td>0.0</td>\n",
       "      <td>0.0</td>\n",
       "      <td>0.0</td>\n",
       "      <td>0.0</td>\n",
       "      <td>0.0</td>\n",
       "      <td>0.0</td>\n",
       "      <td>0.0</td>\n",
       "      <td>0.0</td>\n",
       "      <td>0.0</td>\n",
       "    </tr>\n",
       "    <tr>\n",
       "      <th>SRR9094429.unmapped</th>\n",
       "      <td>519.0</td>\n",
       "      <td>228.0</td>\n",
       "      <td>980.0</td>\n",
       "      <td>847.0</td>\n",
       "      <td>51.0</td>\n",
       "      <td>0.0</td>\n",
       "      <td>1.0</td>\n",
       "      <td>15.0</td>\n",
       "      <td>54.0</td>\n",
       "      <td>8.0</td>\n",
       "      <td>...</td>\n",
       "      <td>0.0</td>\n",
       "      <td>0.0</td>\n",
       "      <td>0.0</td>\n",
       "      <td>0.0</td>\n",
       "      <td>0.0</td>\n",
       "      <td>0.0</td>\n",
       "      <td>0.0</td>\n",
       "      <td>0.0</td>\n",
       "      <td>0.0</td>\n",
       "      <td>0.0</td>\n",
       "    </tr>\n",
       "    <tr>\n",
       "      <th>SRR9094430.unmapped</th>\n",
       "      <td>168.0</td>\n",
       "      <td>53.0</td>\n",
       "      <td>353.0</td>\n",
       "      <td>203.0</td>\n",
       "      <td>10.0</td>\n",
       "      <td>0.0</td>\n",
       "      <td>0.0</td>\n",
       "      <td>18.0</td>\n",
       "      <td>30.0</td>\n",
       "      <td>11.0</td>\n",
       "      <td>...</td>\n",
       "      <td>0.0</td>\n",
       "      <td>0.0</td>\n",
       "      <td>0.0</td>\n",
       "      <td>0.0</td>\n",
       "      <td>0.0</td>\n",
       "      <td>0.0</td>\n",
       "      <td>0.0</td>\n",
       "      <td>0.0</td>\n",
       "      <td>0.0</td>\n",
       "      <td>0.0</td>\n",
       "    </tr>\n",
       "    <tr>\n",
       "      <th>SRR9094431.unmapped</th>\n",
       "      <td>61.0</td>\n",
       "      <td>38.0</td>\n",
       "      <td>211.0</td>\n",
       "      <td>174.0</td>\n",
       "      <td>17.0</td>\n",
       "      <td>0.0</td>\n",
       "      <td>4.0</td>\n",
       "      <td>4.0</td>\n",
       "      <td>24.0</td>\n",
       "      <td>1.0</td>\n",
       "      <td>...</td>\n",
       "      <td>0.0</td>\n",
       "      <td>0.0</td>\n",
       "      <td>0.0</td>\n",
       "      <td>0.0</td>\n",
       "      <td>0.0</td>\n",
       "      <td>0.0</td>\n",
       "      <td>0.0</td>\n",
       "      <td>0.0</td>\n",
       "      <td>0.0</td>\n",
       "      <td>0.0</td>\n",
       "    </tr>\n",
       "    <tr>\n",
       "      <th>SRR9094432.unmapped</th>\n",
       "      <td>79.0</td>\n",
       "      <td>42.0</td>\n",
       "      <td>310.0</td>\n",
       "      <td>207.0</td>\n",
       "      <td>23.0</td>\n",
       "      <td>0.0</td>\n",
       "      <td>0.0</td>\n",
       "      <td>1.0</td>\n",
       "      <td>51.0</td>\n",
       "      <td>6.0</td>\n",
       "      <td>...</td>\n",
       "      <td>0.0</td>\n",
       "      <td>0.0</td>\n",
       "      <td>0.0</td>\n",
       "      <td>0.0</td>\n",
       "      <td>0.0</td>\n",
       "      <td>0.0</td>\n",
       "      <td>0.0</td>\n",
       "      <td>0.0</td>\n",
       "      <td>0.0</td>\n",
       "      <td>0.0</td>\n",
       "    </tr>\n",
       "  </tbody>\n",
       "</table>\n",
       "<p>5 rows × 3385 columns</p>\n",
       "</div>"
      ],
      "text/plain": [
       "                     80840  119060  32008    292  482957  60552  179879  \\\n",
       "SRR9094428.unmapped  225.0    37.0  395.0  322.0    52.0   30.0    22.0   \n",
       "SRR9094429.unmapped  519.0   228.0  980.0  847.0    51.0    0.0     1.0   \n",
       "SRR9094430.unmapped  168.0    53.0  353.0  203.0    10.0    0.0     0.0   \n",
       "SRR9094431.unmapped   61.0    38.0  211.0  174.0    17.0    0.0     4.0   \n",
       "SRR9094432.unmapped   79.0    42.0  310.0  207.0    23.0    0.0     0.0   \n",
       "\n",
       "                     488731  95486  60550  ...  336988  712528  1954172  \\\n",
       "SRR9094428.unmapped    21.0   17.0   11.0  ...     0.0     0.0      0.0   \n",
       "SRR9094429.unmapped    15.0   54.0    8.0  ...     0.0     0.0      0.0   \n",
       "SRR9094430.unmapped    18.0   30.0   11.0  ...     0.0     0.0      0.0   \n",
       "SRR9094431.unmapped     4.0   24.0    1.0  ...     0.0     0.0      0.0   \n",
       "SRR9094432.unmapped     1.0   51.0    6.0  ...     0.0     0.0      0.0   \n",
       "\n",
       "                     120962  106  2025876  277944  1714845  1349  1299  \n",
       "SRR9094428.unmapped     0.0  0.0      0.0     0.0      0.0   0.0   0.0  \n",
       "SRR9094429.unmapped     0.0  0.0      0.0     0.0      0.0   0.0   0.0  \n",
       "SRR9094430.unmapped     0.0  0.0      0.0     0.0      0.0   0.0   0.0  \n",
       "SRR9094431.unmapped     0.0  0.0      0.0     0.0      0.0   0.0   0.0  \n",
       "SRR9094432.unmapped     0.0  0.0      0.0     0.0      0.0   0.0   0.0  \n",
       "\n",
       "[5 rows x 3385 columns]"
      ]
     },
     "execution_count": 34,
     "metadata": {},
     "output_type": "execute_result"
    }
   ],
   "source": [
    "feature_df.head()"
   ]
  },
  {
   "cell_type": "code",
   "execution_count": 35,
   "metadata": {},
   "outputs": [],
   "source": [
    "feature_df.to_csv('{}/dataframes/feature_table.tsv'.format(data_dir), '\\t', index=True)"
   ]
  },
  {
   "cell_type": "code",
   "execution_count": 36,
   "metadata": {},
   "outputs": [],
   "source": [
    "feature_counts = pd.DataFrame(feature_df.sum(axis=0), columns=[\"count\"])"
   ]
  },
  {
   "cell_type": "code",
   "execution_count": 37,
   "metadata": {},
   "outputs": [
    {
     "data": {
      "text/html": [
       "<div>\n",
       "<style scoped>\n",
       "    .dataframe tbody tr th:only-of-type {\n",
       "        vertical-align: middle;\n",
       "    }\n",
       "\n",
       "    .dataframe tbody tr th {\n",
       "        vertical-align: top;\n",
       "    }\n",
       "\n",
       "    .dataframe thead th {\n",
       "        text-align: right;\n",
       "    }\n",
       "</style>\n",
       "<table border=\"1\" class=\"dataframe\">\n",
       "  <thead>\n",
       "    <tr style=\"text-align: right;\">\n",
       "      <th></th>\n",
       "      <th>count</th>\n",
       "    </tr>\n",
       "  </thead>\n",
       "  <tbody>\n",
       "    <tr>\n",
       "      <th>80840</th>\n",
       "      <td>67624.0</td>\n",
       "    </tr>\n",
       "    <tr>\n",
       "      <th>119060</th>\n",
       "      <td>13576.0</td>\n",
       "    </tr>\n",
       "    <tr>\n",
       "      <th>32008</th>\n",
       "      <td>51119.0</td>\n",
       "    </tr>\n",
       "    <tr>\n",
       "      <th>292</th>\n",
       "      <td>35766.0</td>\n",
       "    </tr>\n",
       "    <tr>\n",
       "      <th>482957</th>\n",
       "      <td>3887.0</td>\n",
       "    </tr>\n",
       "  </tbody>\n",
       "</table>\n",
       "</div>"
      ],
      "text/plain": [
       "          count\n",
       "80840   67624.0\n",
       "119060  13576.0\n",
       "32008   51119.0\n",
       "292     35766.0\n",
       "482957   3887.0"
      ]
     },
     "execution_count": 37,
     "metadata": {},
     "output_type": "execute_result"
    }
   ],
   "source": [
    "feature_counts.head()"
   ]
  },
  {
   "cell_type": "markdown",
   "metadata": {},
   "source": [
    "## Taxonomic clasification overview\n",
    "1. Plot taxominc grouping fractions\n",
    "2. Plot relative taxonomies in barplot"
   ]
  },
  {
   "cell_type": "code",
   "execution_count": 38,
   "metadata": {},
   "outputs": [],
   "source": [
    "tax = qiime2.Artifact.load('{}/feature-taxonomy.qza'.format(data_dir))"
   ]
  },
  {
   "cell_type": "code",
   "execution_count": 312,
   "metadata": {},
   "outputs": [],
   "source": [
    "#qiime2.Visualization.load('{}/feature-taxonomy.qzv'.format(data_dir))"
   ]
  },
  {
   "cell_type": "code",
   "execution_count": 40,
   "metadata": {},
   "outputs": [],
   "source": [
    "tax_df = tax.view(pd.DataFrame)"
   ]
  },
  {
   "cell_type": "code",
   "execution_count": 41,
   "metadata": {},
   "outputs": [
    {
     "data": {
      "text/html": [
       "<div>\n",
       "<style scoped>\n",
       "    .dataframe tbody tr th:only-of-type {\n",
       "        vertical-align: middle;\n",
       "    }\n",
       "\n",
       "    .dataframe tbody tr th {\n",
       "        vertical-align: top;\n",
       "    }\n",
       "\n",
       "    .dataframe thead th {\n",
       "        text-align: right;\n",
       "    }\n",
       "</style>\n",
       "<table border=\"1\" class=\"dataframe\">\n",
       "  <thead>\n",
       "    <tr style=\"text-align: right;\">\n",
       "      <th></th>\n",
       "      <th>Taxon</th>\n",
       "    </tr>\n",
       "    <tr>\n",
       "      <th>Feature ID</th>\n",
       "      <th></th>\n",
       "    </tr>\n",
       "  </thead>\n",
       "  <tbody>\n",
       "    <tr>\n",
       "      <th>80840</th>\n",
       "      <td>k__Bacteria; p__Proteobacteria; c__Betaproteob...</td>\n",
       "    </tr>\n",
       "    <tr>\n",
       "      <th>119060</th>\n",
       "      <td>k__Bacteria; p__Proteobacteria; c__Betaproteob...</td>\n",
       "    </tr>\n",
       "    <tr>\n",
       "      <th>32008</th>\n",
       "      <td>k__Bacteria; p__Proteobacteria; c__Betaproteob...</td>\n",
       "    </tr>\n",
       "    <tr>\n",
       "      <th>292</th>\n",
       "      <td>k__Bacteria; p__Proteobacteria; c__Betaproteob...</td>\n",
       "    </tr>\n",
       "    <tr>\n",
       "      <th>482957</th>\n",
       "      <td>k__Bacteria; p__Proteobacteria; c__Betaproteob...</td>\n",
       "    </tr>\n",
       "  </tbody>\n",
       "</table>\n",
       "</div>"
      ],
      "text/plain": [
       "                                                        Taxon\n",
       "Feature ID                                                   \n",
       "80840       k__Bacteria; p__Proteobacteria; c__Betaproteob...\n",
       "119060      k__Bacteria; p__Proteobacteria; c__Betaproteob...\n",
       "32008       k__Bacteria; p__Proteobacteria; c__Betaproteob...\n",
       "292         k__Bacteria; p__Proteobacteria; c__Betaproteob...\n",
       "482957      k__Bacteria; p__Proteobacteria; c__Betaproteob..."
      ]
     },
     "execution_count": 41,
     "metadata": {},
     "output_type": "execute_result"
    }
   ],
   "source": [
    "tax_df.head()"
   ]
  },
  {
   "cell_type": "code",
   "execution_count": 42,
   "metadata": {},
   "outputs": [],
   "source": [
    "tax_df.to_csv('{}/dataframes/feature_taxonomy.tsv'.format(data_dir), '\\t', index=True)"
   ]
  },
  {
   "cell_type": "code",
   "execution_count": 43,
   "metadata": {},
   "outputs": [],
   "source": [
    "taxon_counts = {\"k\":0, \"p\":0, \"c\":0, \"o\":0, \"f\":0, \"g\":0, \"s\":0}\n",
    "for classification in tax_df[\"Taxon\"].values:\n",
    "    taxons = classification.split('; ')\n",
    "    for i, cl in enumerate(taxons):\n",
    "        if i > 0 and len(cl) < 4:\n",
    "            taxon_counts[taxons[i-1][0]] += 1\n",
    "            break\n",
    "        if i == len(taxons)-1:\n",
    "            taxon_counts[taxons[len(taxons)-1][0]] += 1"
   ]
  },
  {
   "cell_type": "code",
   "execution_count": 44,
   "metadata": {},
   "outputs": [],
   "source": [
    "taxon_counts = pd.Series(taxon_counts)"
   ]
  },
  {
   "cell_type": "code",
   "execution_count": 45,
   "metadata": {},
   "outputs": [],
   "source": [
    "taxon_frac = taxon_counts/taxon_counts.sum()"
   ]
  },
  {
   "cell_type": "code",
   "execution_count": 100,
   "metadata": {},
   "outputs": [],
   "source": [
    "set_three = cm.get_cmap('Set3', 20)"
   ]
  },
  {
   "cell_type": "code",
   "execution_count": 314,
   "metadata": {},
   "outputs": [
    {
     "data": {
      "image/png": "[encoded data removed]",
      "text/plain": [
       "<Figure size 720x432 with 1 Axes>"
      ]
     },
     "metadata": {
      "needs_background": "light"
     },
     "output_type": "display_data"
    }
   ],
   "source": [
    "ax = plt.figure(figsize=(10,6))\n",
    "ax = taxon_frac.plot.bar(color=[set_three(np.random.random()) for i in range(len(taxon_frac))], width=0.8)\n",
    "ax.set_xlabel(\"Taxonomic Group\", fontsize=18)\n",
    "ax.set_ylabel(\"Fraction of total\", fontsize=18)\n",
    "ax.set_xticklabels([\"Kingdom\", \"Phylum\", \"Class\", \"Order\", \"Family\", \"Genus\", \"Species\"], fontsize=18)\n",
    "plt.savefig('../results/figures/taxon_groupings.png')"
   ]
  },
  {
   "cell_type": "code",
   "execution_count": 104,
   "metadata": {},
   "outputs": [],
   "source": [
    "taxa_barplot = taxa.visualizers.barplot(table=f_table,\n",
    "                         taxonomy=tax,\n",
    "                         metadata=m_data)"
   ]
  },
  {
   "cell_type": "code",
   "execution_count": 317,
   "metadata": {},
   "outputs": [],
   "source": [
    "#taxa_barplot.visualization"
   ]
  },
  {
   "cell_type": "markdown",
   "metadata": {},
   "source": [
    "## Diversity analysis\n",
    "1. Rarefaction (alpha and beta)\n",
    "2. Core diversity (alpha and beta)"
   ]
  },
  {
   "cell_type": "code",
   "execution_count": 123,
   "metadata": {},
   "outputs": [],
   "source": [
    "alpha_rare = diversity.visualizers.alpha_rarefaction(table=f_table,\n",
    "                                                    max_depth=10000,\n",
    "                                                    metrics=set(['shannon', 'observed_otus']),\n",
    "                                                    metadata=m_data)"
   ]
  },
  {
   "cell_type": "code",
   "execution_count": 280,
   "metadata": {},
   "outputs": [],
   "source": [
    "#alpha_rare.visualization"
   ]
  },
  {
   "cell_type": "code",
   "execution_count": 131,
   "metadata": {},
   "outputs": [
    {
     "data": {
      "image/png": "[encoded data removed]",
      "text/plain": [
       "<Figure size 432x288 with 2 Axes>"
      ]
     },
     "metadata": {
      "needs_background": "light"
     },
     "output_type": "display_data"
    }
   ],
   "source": [
    "beta_rare = diversity.visualizers.beta_rarefaction(table=f_table,\n",
    "                                                   clustering_method='upgma',\n",
    "                                                   sampling_depth=10000,\n",
    "                                                   metric='braycurtis',\n",
    "                                                   metadata=m_data)"
   ]
  },
  {
   "cell_type": "code",
   "execution_count": 117,
   "metadata": {},
   "outputs": [
    {
     "name": "stderr",
     "output_type": "stream",
     "text": [
      "/Users/adamklie/anaconda3/envs/qiime2-2020.2/lib/python3.6/site-packages/sklearn/metrics/pairwise.py:1735: DataConversionWarning: Data was converted to boolean for metric jaccard\n",
      "  warnings.warn(msg, DataConversionWarning)\n",
      "/Users/adamklie/anaconda3/envs/qiime2-2020.2/lib/python3.6/site-packages/skbio/stats/ordination/_principal_coordinate_analysis.py:152: RuntimeWarning: The result contains negative eigenvalues. Please compare their magnitude with the magnitude of some of the largest positive eigenvalues. If the negative ones are smaller, it's probably safe to ignore them, but if they are large in magnitude, the results won't be useful. See the Notes section for more details. The smallest eigenvalue is -0.09867305623715426 and the largest is 7.9044895436985465.\n",
      "  RuntimeWarning\n"
     ]
    }
   ],
   "source": [
    "core_diversity = diversity.pipelines.core_metrics(table=f_table,\n",
    "                                                  sampling_depth=1000,\n",
    "                                                  metadata=m_data)"
   ]
  },
  {
   "cell_type": "code",
   "execution_count": 301,
   "metadata": {},
   "outputs": [],
   "source": [
    "shannon_sig = diversity.visualizers.alpha_group_significance(core_diversity.shannon_vector,\n",
    "                                              metadata=m_data)\n",
    "otu_sig = diversity.visualizers.alpha_group_significance(core_diversity.observed_otus_vector,\n",
    "                                              metadata=m_data)\n",
    "eveness_sig = diversity.visualizers.alpha_group_significance(core_diversity.evenness_vector,\n",
    "                                              metadata=m_data)"
   ]
  },
  {
   "cell_type": "code",
   "execution_count": 303,
   "metadata": {},
   "outputs": [],
   "source": [
    "#eveness_sig.visualization"
   ]
  },
  {
   "cell_type": "code",
   "execution_count": 154,
   "metadata": {},
   "outputs": [],
   "source": [
    "diversity_df = pd.concat([metadata_df, \n",
    "                          core_diversity.observed_otus_vector.view(pd.Series), \n",
    "                          core_diversity.shannon_vector.view(pd.Series),\n",
    "                          core_diversity.evenness_vector.view(pd.Series)], axis=1, join='inner') "
   ]
  },
  {
   "cell_type": "code",
   "execution_count": 156,
   "metadata": {},
   "outputs": [
    {
     "data": {
      "text/html": [
       "<div>\n",
       "<style scoped>\n",
       "    .dataframe tbody tr th:only-of-type {\n",
       "        vertical-align: middle;\n",
       "    }\n",
       "\n",
       "    .dataframe tbody tr th {\n",
       "        vertical-align: top;\n",
       "    }\n",
       "\n",
       "    .dataframe thead th {\n",
       "        text-align: right;\n",
       "    }\n",
       "</style>\n",
       "<table border=\"1\" class=\"dataframe\">\n",
       "  <thead>\n",
       "    <tr style=\"text-align: right;\">\n",
       "      <th></th>\n",
       "      <th>gender</th>\n",
       "      <th>condition</th>\n",
       "      <th>recurrence</th>\n",
       "      <th>observed_otus</th>\n",
       "      <th>shannon</th>\n",
       "      <th>pielou_e</th>\n",
       "    </tr>\n",
       "  </thead>\n",
       "  <tbody>\n",
       "    <tr>\n",
       "      <th>SRR9094428.unmapped</th>\n",
       "      <td>female</td>\n",
       "      <td>cancer</td>\n",
       "      <td>yes</td>\n",
       "      <td>101</td>\n",
       "      <td>5.295862</td>\n",
       "      <td>0.795388</td>\n",
       "    </tr>\n",
       "    <tr>\n",
       "      <th>SRR9094429.unmapped</th>\n",
       "      <td>female</td>\n",
       "      <td>cancer</td>\n",
       "      <td>yes</td>\n",
       "      <td>101</td>\n",
       "      <td>5.021404</td>\n",
       "      <td>0.754167</td>\n",
       "    </tr>\n",
       "    <tr>\n",
       "      <th>SRR9094430.unmapped</th>\n",
       "      <td>female</td>\n",
       "      <td>cancer</td>\n",
       "      <td>yes</td>\n",
       "      <td>107</td>\n",
       "      <td>4.821459</td>\n",
       "      <td>0.715194</td>\n",
       "    </tr>\n",
       "    <tr>\n",
       "      <th>SRR9094431.unmapped</th>\n",
       "      <td>female</td>\n",
       "      <td>cancer</td>\n",
       "      <td>yes</td>\n",
       "      <td>106</td>\n",
       "      <td>5.070462</td>\n",
       "      <td>0.753645</td>\n",
       "    </tr>\n",
       "    <tr>\n",
       "      <th>SRR9094432.unmapped</th>\n",
       "      <td>female</td>\n",
       "      <td>cancer</td>\n",
       "      <td>yes</td>\n",
       "      <td>91</td>\n",
       "      <td>5.003407</td>\n",
       "      <td>0.768833</td>\n",
       "    </tr>\n",
       "  </tbody>\n",
       "</table>\n",
       "</div>"
      ],
      "text/plain": [
       "                     gender condition recurrence  observed_otus   shannon  \\\n",
       "SRR9094428.unmapped  female    cancer        yes            101  5.295862   \n",
       "SRR9094429.unmapped  female    cancer        yes            101  5.021404   \n",
       "SRR9094430.unmapped  female    cancer        yes            107  4.821459   \n",
       "SRR9094431.unmapped  female    cancer        yes            106  5.070462   \n",
       "SRR9094432.unmapped  female    cancer        yes             91  5.003407   \n",
       "\n",
       "                     pielou_e  \n",
       "SRR9094428.unmapped  0.795388  \n",
       "SRR9094429.unmapped  0.754167  \n",
       "SRR9094430.unmapped  0.715194  \n",
       "SRR9094431.unmapped  0.753645  \n",
       "SRR9094432.unmapped  0.768833  "
      ]
     },
     "execution_count": 156,
     "metadata": {},
     "output_type": "execute_result"
    }
   ],
   "source": [
    "diversity_df.head()"
   ]
  },
  {
   "cell_type": "code",
   "execution_count": 305,
   "metadata": {},
   "outputs": [
    {
     "data": {
      "text/html": [
       "<div>\n",
       "<style scoped>\n",
       "    .dataframe tbody tr th:only-of-type {\n",
       "        vertical-align: middle;\n",
       "    }\n",
       "\n",
       "    .dataframe tbody tr th {\n",
       "        vertical-align: top;\n",
       "    }\n",
       "\n",
       "    .dataframe thead th {\n",
       "        text-align: right;\n",
       "    }\n",
       "</style>\n",
       "<table border=\"1\" class=\"dataframe\">\n",
       "  <thead>\n",
       "    <tr style=\"text-align: right;\">\n",
       "      <th></th>\n",
       "      <th>gender</th>\n",
       "      <th>recurrence</th>\n",
       "      <th>observed_otus</th>\n",
       "      <th>shannon</th>\n",
       "      <th>pielou_e</th>\n",
       "    </tr>\n",
       "    <tr>\n",
       "      <th>condition</th>\n",
       "      <th></th>\n",
       "      <th></th>\n",
       "      <th></th>\n",
       "      <th></th>\n",
       "      <th></th>\n",
       "    </tr>\n",
       "  </thead>\n",
       "  <tbody>\n",
       "    <tr>\n",
       "      <th>cancer</th>\n",
       "      <td>81</td>\n",
       "      <td>81</td>\n",
       "      <td>81</td>\n",
       "      <td>81</td>\n",
       "      <td>81</td>\n",
       "    </tr>\n",
       "    <tr>\n",
       "      <th>normal</th>\n",
       "      <td>32</td>\n",
       "      <td>0</td>\n",
       "      <td>32</td>\n",
       "      <td>32</td>\n",
       "      <td>32</td>\n",
       "    </tr>\n",
       "  </tbody>\n",
       "</table>\n",
       "</div>"
      ],
      "text/plain": [
       "           gender  recurrence  observed_otus  shannon  pielou_e\n",
       "condition                                                      \n",
       "cancer         81          81             81       81        81\n",
       "normal         32           0             32       32        32"
      ]
     },
     "execution_count": 305,
     "metadata": {},
     "output_type": "execute_result"
    }
   ],
   "source": [
    "diversity_df.groupby(\"condition\").count()"
   ]
  },
  {
   "cell_type": "code",
   "execution_count": 319,
   "metadata": {},
   "outputs": [
    {
     "data": {
      "image/png": "[encoded data removed]",
      "text/plain": [
       "<Figure size 432x288 with 1 Axes>"
      ]
     },
     "metadata": {
      "needs_background": "light"
     },
     "output_type": "display_data"
    }
   ],
   "source": [
    "ax = sns.violinplot(x=\"condition\", y=\"observed_otus\", data=diversity_df)\n",
    "ax.set_ylabel(ax.get_ylabel(), fontsize=18)\n",
    "ax.set_xlabel(ax.get_xlabel(), fontsize=18)\n",
    "ax.set_xticklabels(ax.get_xticklabels(), fontsize=14)\n",
    "plt.savefig('../results/figures/cancer_otu_alpha_sig.png')"
   ]
  },
  {
   "cell_type": "code",
   "execution_count": 320,
   "metadata": {},
   "outputs": [],
   "source": [
    "#core_diversity.jaccard_emperor"
   ]
  },
  {
   "cell_type": "markdown",
   "metadata": {},
   "source": [
    "## Sample Classification\n",
    "1. Save DataFrames with\n",
    " - Feature details\n",
    " - Test set classifcation results"
   ]
  },
  {
   "cell_type": "code",
   "execution_count": 389,
   "metadata": {},
   "outputs": [],
   "source": [
    "# Choose model version\n",
    "version = 'v1'\n",
    "class_dir = '{}/dataframes/classification_{}'.format(data_dir, version)"
   ]
  },
  {
   "cell_type": "code",
   "execution_count": 390,
   "metadata": {},
   "outputs": [
    {
     "data": {
      "text/plain": [
       "'../results/qiime/dataframes/classification_v1'"
      ]
     },
     "execution_count": 390,
     "metadata": {},
     "output_type": "execute_result"
    }
   ],
   "source": [
    "class_dir"
   ]
  },
  {
   "cell_type": "code",
   "execution_count": 391,
   "metadata": {},
   "outputs": [
    {
     "data": {
      "text/plain": [
       "'../results/qiime/recurrence_classification/v1'"
      ]
     },
     "execution_count": 391,
     "metadata": {},
     "output_type": "execute_result"
    }
   ],
   "source": [
    "# Choose either 'cancer' or 'recurrence'\n",
    "classification_type = 'recurrence'\n",
    "cancer_dir = '{}/{}_classification/{}'.format(data_dir, classification_type, version)\n",
    "cancer_dir"
   ]
  },
  {
   "cell_type": "markdown",
   "metadata": {},
   "source": [
    "##### Model"
   ]
  },
  {
   "cell_type": "code",
   "execution_count": 392,
   "metadata": {},
   "outputs": [],
   "source": [
    "#qiime2.Visualization.load('{}/accuracy_results.qzv'.format(cancer_dir))\n",
    "#qiime2.Visualization.load('{}/model_summary.qzv'.format(cancer_dir))\n",
    "#qiime2.Visualization.load('{}/heatmap.qzv'.format(cancer_dir))"
   ]
  },
  {
   "cell_type": "markdown",
   "metadata": {},
   "source": [
    "##### Features"
   ]
  },
  {
   "cell_type": "code",
   "execution_count": 393,
   "metadata": {},
   "outputs": [],
   "source": [
    "importance_df = qiime2.Artifact.load('{}/feature_importance.qza'.format(cancer_dir)).view(pd.DataFrame)"
   ]
  },
  {
   "cell_type": "code",
   "execution_count": 394,
   "metadata": {},
   "outputs": [],
   "source": [
    "model_features = pd.concat([tax_df, importance_df, feature_counts], axis=1, join='inner')"
   ]
  },
  {
   "cell_type": "code",
   "execution_count": 413,
   "metadata": {},
   "outputs": [
    {
     "name": "stdout",
     "output_type": "stream",
     "text": [
      "k__Bacteria; p__Firmicutes; c__Bacilli; o__Bacillales; f__Staphylococcaceae; g__Staphylococcus; s__saprophyticus\n",
      "k__Bacteria; p__Bacteroidetes; c__Bacteroidia; o__Bacteroidales; f__Prevotellaceae; g__Prevotella; s__melaninogenica\n",
      "k__Bacteria; p__Proteobacteria; c__Betaproteobacteria; o__Burkholderiales; f__Burkholderiaceae; g__Paraburkholderia; s__fungorum\n",
      "k__Bacteria; p__Bacteroidetes; c__Chitinophagia; o__Chitinophagales; f__Chitinophagaceae; g__; s__\n",
      "k__Bacteria; p__Proteobacteria; c__Gammaproteobacteria; o__Pseudomonadales; f__Pseudomonadaceae; g__Pseudomonas; s__moraviensis\n",
      "k__Bacteria; p__Firmicutes; c__Bacilli; o__Bacillales; f__Staphylococcaceae; g__Staphylococcus; s__epidermidis\n",
      "k__Bacteria; p__Proteobacteria; c__Alphaproteobacteria; o__Rhizobiales; f__Methylobacteriaceae; g__Microvirga; s__sp. 17 mud 1-3\n",
      "k__Bacteria; p__Proteobacteria; c__Betaproteobacteria; o__Burkholderiales; f__Burkholderiaceae; g__Burkholderia; s__cepacia\n",
      "k__Bacteria; p__Actinobacteria; c__Actinobacteria; o__Micrococcales; f__Microbacteriaceae; g__; s__\n",
      "k__Bacteria; p__Proteobacteria; c__Betaproteobacteria; o__Burkholderiales; f__Comamonadaceae; g__Acidovorax; s__carolinensis\n"
     ]
    },
    {
     "data": {
      "text/plain": [
       "[None, None, None, None, None, None, None, None, None, None]"
      ]
     },
     "execution_count": 413,
     "metadata": {},
     "output_type": "execute_result"
    }
   ],
   "source": [
    "[print(';'.join(i.split(';')[:])) for i in model_features.sort_values(\"importance\", ascending=False).head(n=10)[\"Taxon\"].values]"
   ]
  },
  {
   "cell_type": "code",
   "execution_count": 396,
   "metadata": {},
   "outputs": [],
   "source": [
    "model_features.to_csv('{}/{}_model_features_{}.tsv'.format(class_dir, classification_type, version), sep='\\t')"
   ]
  },
  {
   "cell_type": "markdown",
   "metadata": {},
   "source": [
    "##### Samples"
   ]
  },
  {
   "cell_type": "code",
   "execution_count": 397,
   "metadata": {},
   "outputs": [],
   "source": [
    "prediction_s = qiime2.Artifact.load('{}/predictions.qza'.format(cancer_dir)).view(pd.Series)\n",
    "probability_df = qiime2.Artifact.load('{}/probabilities.qza'.format(cancer_dir)).view(pd.DataFrame)\n",
    "estimator = qiime2.Artifact.load('{}/sample_estimator.qza'.format(cancer_dir))"
   ]
  },
  {
   "cell_type": "code",
   "execution_count": 398,
   "metadata": {},
   "outputs": [],
   "source": [
    "estimator.export_data(cancer_dir)"
   ]
  },
  {
   "cell_type": "code",
   "execution_count": 399,
   "metadata": {},
   "outputs": [
    {
     "data": {
      "text/plain": [
       "(20, 2)"
      ]
     },
     "execution_count": 399,
     "metadata": {},
     "output_type": "execute_result"
    }
   ],
   "source": [
    "probability_df.shape"
   ]
  },
  {
   "cell_type": "code",
   "execution_count": 400,
   "metadata": {},
   "outputs": [],
   "source": [
    "prediction_df = pd.DataFrame(data=prediction_s.values, index=prediction_s.index, columns = [\"predicted_label\"])"
   ]
  },
  {
   "cell_type": "code",
   "execution_count": 401,
   "metadata": {},
   "outputs": [],
   "source": [
    "model_predictions = pd.concat([probability_df, prediction_df], axis=1, join='inner')"
   ]
  },
  {
   "cell_type": "code",
   "execution_count": 402,
   "metadata": {},
   "outputs": [
    {
     "data": {
      "text/html": [
       "<div>\n",
       "<style scoped>\n",
       "    .dataframe tbody tr th:only-of-type {\n",
       "        vertical-align: middle;\n",
       "    }\n",
       "\n",
       "    .dataframe tbody tr th {\n",
       "        vertical-align: top;\n",
       "    }\n",
       "\n",
       "    .dataframe thead th {\n",
       "        text-align: right;\n",
       "    }\n",
       "</style>\n",
       "<table border=\"1\" class=\"dataframe\">\n",
       "  <thead>\n",
       "    <tr style=\"text-align: right;\">\n",
       "      <th></th>\n",
       "      <th>no</th>\n",
       "      <th>yes</th>\n",
       "      <th>predicted_label</th>\n",
       "    </tr>\n",
       "    <tr>\n",
       "      <th>id</th>\n",
       "      <th></th>\n",
       "      <th></th>\n",
       "      <th></th>\n",
       "    </tr>\n",
       "  </thead>\n",
       "  <tbody>\n",
       "    <tr>\n",
       "      <th>SRR9094487.unmapped</th>\n",
       "      <td>0.87</td>\n",
       "      <td>0.13</td>\n",
       "      <td>no</td>\n",
       "    </tr>\n",
       "    <tr>\n",
       "      <th>SRR9094472.unmapped</th>\n",
       "      <td>0.90</td>\n",
       "      <td>0.10</td>\n",
       "      <td>no</td>\n",
       "    </tr>\n",
       "    <tr>\n",
       "      <th>SRR9094447.unmapped</th>\n",
       "      <td>0.76</td>\n",
       "      <td>0.24</td>\n",
       "      <td>no</td>\n",
       "    </tr>\n",
       "    <tr>\n",
       "      <th>SRR9094515.unmapped</th>\n",
       "      <td>0.89</td>\n",
       "      <td>0.11</td>\n",
       "      <td>no</td>\n",
       "    </tr>\n",
       "    <tr>\n",
       "      <th>SRR9094490.unmapped</th>\n",
       "      <td>1.00</td>\n",
       "      <td>0.00</td>\n",
       "      <td>no</td>\n",
       "    </tr>\n",
       "  </tbody>\n",
       "</table>\n",
       "</div>"
      ],
      "text/plain": [
       "                       no   yes predicted_label\n",
       "id                                             \n",
       "SRR9094487.unmapped  0.87  0.13              no\n",
       "SRR9094472.unmapped  0.90  0.10              no\n",
       "SRR9094447.unmapped  0.76  0.24              no\n",
       "SRR9094515.unmapped  0.89  0.11              no\n",
       "SRR9094490.unmapped  1.00  0.00              no"
      ]
     },
     "execution_count": 402,
     "metadata": {},
     "output_type": "execute_result"
    }
   ],
   "source": [
    "model_predictions.head()"
   ]
  },
  {
   "cell_type": "code",
   "execution_count": 403,
   "metadata": {},
   "outputs": [],
   "source": [
    "model_samples = metadata_df.merge(model_predictions, left_index=True, right_index=True)"
   ]
  },
  {
   "cell_type": "code",
   "execution_count": 404,
   "metadata": {},
   "outputs": [
    {
     "data": {
      "text/html": [
       "<div>\n",
       "<style scoped>\n",
       "    .dataframe tbody tr th:only-of-type {\n",
       "        vertical-align: middle;\n",
       "    }\n",
       "\n",
       "    .dataframe tbody tr th {\n",
       "        vertical-align: top;\n",
       "    }\n",
       "\n",
       "    .dataframe thead th {\n",
       "        text-align: right;\n",
       "    }\n",
       "</style>\n",
       "<table border=\"1\" class=\"dataframe\">\n",
       "  <thead>\n",
       "    <tr style=\"text-align: right;\">\n",
       "      <th></th>\n",
       "      <th>gender</th>\n",
       "      <th>condition</th>\n",
       "      <th>recurrence</th>\n",
       "      <th>no</th>\n",
       "      <th>yes</th>\n",
       "      <th>predicted_label</th>\n",
       "    </tr>\n",
       "  </thead>\n",
       "  <tbody>\n",
       "    <tr>\n",
       "      <th>SRR9094429.unmapped</th>\n",
       "      <td>female</td>\n",
       "      <td>cancer</td>\n",
       "      <td>yes</td>\n",
       "      <td>0.85</td>\n",
       "      <td>0.15</td>\n",
       "      <td>no</td>\n",
       "    </tr>\n",
       "    <tr>\n",
       "      <th>SRR9094440.unmapped</th>\n",
       "      <td>female</td>\n",
       "      <td>cancer</td>\n",
       "      <td>yes</td>\n",
       "      <td>0.99</td>\n",
       "      <td>0.01</td>\n",
       "      <td>no</td>\n",
       "    </tr>\n",
       "    <tr>\n",
       "      <th>SRR9094441.unmapped</th>\n",
       "      <td>female</td>\n",
       "      <td>cancer</td>\n",
       "      <td>yes</td>\n",
       "      <td>0.48</td>\n",
       "      <td>0.52</td>\n",
       "      <td>yes</td>\n",
       "    </tr>\n",
       "    <tr>\n",
       "      <th>SRR9094444.unmapped</th>\n",
       "      <td>female</td>\n",
       "      <td>cancer</td>\n",
       "      <td>yes</td>\n",
       "      <td>0.65</td>\n",
       "      <td>0.35</td>\n",
       "      <td>no</td>\n",
       "    </tr>\n",
       "    <tr>\n",
       "      <th>SRR9094447.unmapped</th>\n",
       "      <td>female</td>\n",
       "      <td>cancer</td>\n",
       "      <td>yes</td>\n",
       "      <td>0.76</td>\n",
       "      <td>0.24</td>\n",
       "      <td>no</td>\n",
       "    </tr>\n",
       "  </tbody>\n",
       "</table>\n",
       "</div>"
      ],
      "text/plain": [
       "                     gender condition recurrence    no   yes predicted_label\n",
       "SRR9094429.unmapped  female    cancer        yes  0.85  0.15              no\n",
       "SRR9094440.unmapped  female    cancer        yes  0.99  0.01              no\n",
       "SRR9094441.unmapped  female    cancer        yes  0.48  0.52             yes\n",
       "SRR9094444.unmapped  female    cancer        yes  0.65  0.35              no\n",
       "SRR9094447.unmapped  female    cancer        yes  0.76  0.24              no"
      ]
     },
     "execution_count": 404,
     "metadata": {},
     "output_type": "execute_result"
    }
   ],
   "source": [
    "model_samples.head()"
   ]
  },
  {
   "cell_type": "code",
   "execution_count": 405,
   "metadata": {},
   "outputs": [],
   "source": [
    "model_samples.to_csv('{}/{}_model_predictions_{}.tsv'.format(class_dir, classification_type, version), sep='\\t')"
   ]
  },
  {
   "cell_type": "markdown",
   "metadata": {},
   "source": [
    "## Differential abundance"
   ]
  },
  {
   "cell_type": "code",
   "execution_count": 370,
   "metadata": {},
   "outputs": [],
   "source": [
    "recurrence_m_data = qiime2.Metadata.load('{}/recurrence_metadata.tsv'.format(data_dir))"
   ]
  },
  {
   "cell_type": "code",
   "execution_count": 373,
   "metadata": {},
   "outputs": [],
   "source": [
    "recurrence_metadata_df = m_data.to_dataframe()"
   ]
  },
  {
   "cell_type": "code",
   "execution_count": 374,
   "metadata": {},
   "outputs": [
    {
     "data": {
      "text/html": [
       "<div>\n",
       "<style scoped>\n",
       "    .dataframe tbody tr th:only-of-type {\n",
       "        vertical-align: middle;\n",
       "    }\n",
       "\n",
       "    .dataframe tbody tr th {\n",
       "        vertical-align: top;\n",
       "    }\n",
       "\n",
       "    .dataframe thead th {\n",
       "        text-align: right;\n",
       "    }\n",
       "</style>\n",
       "<table border=\"1\" class=\"dataframe\">\n",
       "  <thead>\n",
       "    <tr style=\"text-align: right;\">\n",
       "      <th></th>\n",
       "      <th>gender</th>\n",
       "      <th>condition</th>\n",
       "      <th>recurrence</th>\n",
       "    </tr>\n",
       "    <tr>\n",
       "      <th>sampleid</th>\n",
       "      <th></th>\n",
       "      <th></th>\n",
       "      <th></th>\n",
       "    </tr>\n",
       "  </thead>\n",
       "  <tbody>\n",
       "    <tr>\n",
       "      <th>SRR9094428.unmapped</th>\n",
       "      <td>female</td>\n",
       "      <td>cancer</td>\n",
       "      <td>yes</td>\n",
       "    </tr>\n",
       "    <tr>\n",
       "      <th>SRR9094429.unmapped</th>\n",
       "      <td>female</td>\n",
       "      <td>cancer</td>\n",
       "      <td>yes</td>\n",
       "    </tr>\n",
       "    <tr>\n",
       "      <th>SRR9094430.unmapped</th>\n",
       "      <td>female</td>\n",
       "      <td>cancer</td>\n",
       "      <td>yes</td>\n",
       "    </tr>\n",
       "    <tr>\n",
       "      <th>SRR9094431.unmapped</th>\n",
       "      <td>female</td>\n",
       "      <td>cancer</td>\n",
       "      <td>yes</td>\n",
       "    </tr>\n",
       "    <tr>\n",
       "      <th>SRR9094432.unmapped</th>\n",
       "      <td>female</td>\n",
       "      <td>cancer</td>\n",
       "      <td>yes</td>\n",
       "    </tr>\n",
       "  </tbody>\n",
       "</table>\n",
       "</div>"
      ],
      "text/plain": [
       "                     gender condition recurrence\n",
       "sampleid                                        \n",
       "SRR9094428.unmapped  female    cancer        yes\n",
       "SRR9094429.unmapped  female    cancer        yes\n",
       "SRR9094430.unmapped  female    cancer        yes\n",
       "SRR9094431.unmapped  female    cancer        yes\n",
       "SRR9094432.unmapped  female    cancer        yes"
      ]
     },
     "execution_count": 374,
     "metadata": {},
     "output_type": "execute_result"
    }
   ],
   "source": [
    "recurrence_metadata_df.head()"
   ]
  },
  {
   "cell_type": "code",
   "execution_count": 380,
   "metadata": {},
   "outputs": [],
   "source": [
    "recurrence_f_table = qiime2.Artifact.load('{}/recurrence-table.qza'.format(data_dir))"
   ]
  },
  {
   "cell_type": "code",
   "execution_count": 381,
   "metadata": {},
   "outputs": [],
   "source": [
    "#qiime2.Visualization.load('{}/feature-table.qzv'.format(data_dir))"
   ]
  },
  {
   "cell_type": "code",
   "execution_count": 384,
   "metadata": {},
   "outputs": [],
   "source": [
    "recurrence_feature_df = recurrence_f_table.view(pd.DataFrame)"
   ]
  },
  {
   "cell_type": "code",
   "execution_count": 387,
   "metadata": {},
   "outputs": [],
   "source": [
    "num_samples = len(recurrence_feature_df)\n",
    "test_examples = int(num_samples*0.2)\n",
    "#cancer_form = \"C(condition, Treatment('normal'))\"\n",
    "recurrence_form = \"C(recurrence, Treatment('no'))\""
   ]
  },
  {
   "cell_type": "code",
   "execution_count": 388,
   "metadata": {},
   "outputs": [
    {
     "name": "stderr",
     "output_type": "stream",
     "text": [
      "100%|██████████| 10000/10000 [00:44<00:00, 222.90it/s]\n"
     ]
    }
   ],
   "source": [
    "covariate_model = songbird.methods.multinomial(table=recurrence_f_table,\n",
    "                                               metadata=recurrence_m_data,\n",
    "                                               formula=recurrence_form,\n",
    "                                               num_random_test_examples=test_examples,\n",
    "                                               epochs=10000,\n",
    "                                               batch_size=32,\n",
    "                                               differential_prior=0.2,\n",
    "                                               random_seed=13)"
   ]
  },
  {
   "cell_type": "code",
   "execution_count": 349,
   "metadata": {},
   "outputs": [
    {
     "name": "stderr",
     "output_type": "stream",
     "text": [
      "100%|██████████| 20000/20000 [03:01<00:00, 109.96it/s]\n"
     ]
    }
   ],
   "source": [
    "null_model = songbird.methods.multinomial(table=recurrence_f_table,\n",
    "                                          metadata=recurrence_m_data,\n",
    "                                          formula=\"1\",\n",
    "                                          num_random_test_examples=test_examples,\n",
    "                                          epochs=10000,\n",
    "                                          batch_size=32,\n",
    "                                          differential_prior=0.2,\n",
    "                                          random_seed=13)"
   ]
  },
  {
   "cell_type": "code",
   "execution_count": 358,
   "metadata": {},
   "outputs": [
    {
     "data": {
      "image/png": "[encoded data removed]",
      "text/plain": [
       "<Figure size 720x720 with 2 Axes>"
      ]
     },
     "metadata": {
      "needs_background": "light"
     },
     "output_type": "display_data"
    }
   ],
   "source": [
    "songbird_vis = songbird.visualizers.summarize_paired(regression_stats=covariate_model.regression_stats, \n",
    "                                                     baseline_stats=null_model.regression_stats)\n",
    "#songbird_vis.visualization"
   ]
  },
  {
   "cell_type": "code",
   "execution_count": 406,
   "metadata": {},
   "outputs": [],
   "source": [
    "differential_df = covariate_model.differentials.view(pd.DataFrame)"
   ]
  },
  {
   "cell_type": "code",
   "execution_count": 407,
   "metadata": {},
   "outputs": [
    {
     "data": {
      "text/html": [
       "<div>\n",
       "<style scoped>\n",
       "    .dataframe tbody tr th:only-of-type {\n",
       "        vertical-align: middle;\n",
       "    }\n",
       "\n",
       "    .dataframe tbody tr th {\n",
       "        vertical-align: top;\n",
       "    }\n",
       "\n",
       "    .dataframe thead th {\n",
       "        text-align: right;\n",
       "    }\n",
       "</style>\n",
       "<table border=\"1\" class=\"dataframe\">\n",
       "  <thead>\n",
       "    <tr style=\"text-align: right;\">\n",
       "      <th></th>\n",
       "      <th>Intercept</th>\n",
       "      <th>C(recurrence, Treatment('no'))[T.yes]</th>\n",
       "    </tr>\n",
       "    <tr>\n",
       "      <th>featureid</th>\n",
       "      <th></th>\n",
       "      <th></th>\n",
       "    </tr>\n",
       "  </thead>\n",
       "  <tbody>\n",
       "    <tr>\n",
       "      <th>80840</th>\n",
       "      <td>3.647085</td>\n",
       "      <td>0.429294</td>\n",
       "    </tr>\n",
       "    <tr>\n",
       "      <th>119060</th>\n",
       "      <td>3.211137</td>\n",
       "      <td>0.138417</td>\n",
       "    </tr>\n",
       "    <tr>\n",
       "      <th>32008</th>\n",
       "      <td>4.941103</td>\n",
       "      <td>0.023816</td>\n",
       "    </tr>\n",
       "    <tr>\n",
       "      <th>292</th>\n",
       "      <td>4.629067</td>\n",
       "      <td>-0.114727</td>\n",
       "    </tr>\n",
       "    <tr>\n",
       "      <th>482957</th>\n",
       "      <td>2.451079</td>\n",
       "      <td>0.055088</td>\n",
       "    </tr>\n",
       "  </tbody>\n",
       "</table>\n",
       "</div>"
      ],
      "text/plain": [
       "           Intercept  C(recurrence, Treatment('no'))[T.yes]\n",
       "featureid                                                  \n",
       "80840       3.647085                               0.429294\n",
       "119060      3.211137                               0.138417\n",
       "32008       4.941103                               0.023816\n",
       "292         4.629067                              -0.114727\n",
       "482957      2.451079                               0.055088"
      ]
     },
     "execution_count": 407,
     "metadata": {},
     "output_type": "execute_result"
    }
   ],
   "source": [
    "differential_df.head()"
   ]
  },
  {
   "cell_type": "code",
   "execution_count": 408,
   "metadata": {},
   "outputs": [],
   "source": [
    "#diff_features = pd.concat([model_features, differential_df[\"C(condition, Treatment('normal'))[T.cancer]\"]], axis=1, join='inner')\n",
    "diff_features = pd.concat([model_features, differential_df[\"C(recurrence, Treatment('no'))[T.yes]\"]], axis=1, join='inner')"
   ]
  },
  {
   "cell_type": "code",
   "execution_count": 409,
   "metadata": {},
   "outputs": [],
   "source": [
    "#diff_features.rename(columns={\"C(condition, Treatment('normal'))[T.cancer]\":\"Differential\"}, inplace=True)\n",
    "diff_features.rename(columns={\"C(recurrence, Treatment('no'))[T.yes]\":\"Differential\"}, inplace=True)"
   ]
  },
  {
   "cell_type": "code",
   "execution_count": 410,
   "metadata": {},
   "outputs": [],
   "source": [
    "important_diff_features = diff_features.sort_values(\"importance\", ascending=False)\n",
    "important_diff_features.to_csv('{}/{}_diff_features_{}.tsv'.format(class_dir, classification_type, version), sep='\\t')"
   ]
  },
  {
   "cell_type": "code",
   "execution_count": 95,
   "metadata": {},
   "outputs": [],
   "source": [
    "feature_m_data = tax.view(qiime2.Metadata)"
   ]
  },
  {
   "cell_type": "code",
   "execution_count": 97,
   "metadata": {},
   "outputs": [
    {
     "name": "stdout",
     "output_type": "stream",
     "text": [
      "2748 feature(s) in the BIOM table were not present in the feature rankings.\n",
      "These feature(s) have been removed from the visualization.\n"
     ]
    }
   ],
   "source": [
    "differential_vis = qurro.visualizers.differential_plot(ranks=covariate_model.differentials,\n",
    "                                    table=f_table,\n",
    "                                    sample_metadata=m_data,\n",
    "                                    feature_metadata=feature_m_data)"
   ]
  },
  {
   "cell_type": "code",
   "execution_count": 99,
   "metadata": {},
   "outputs": [
    {
     "data": {
      "text/html": [
       "<div><img onload=\"(function(div, url){\n",
       "if (typeof require !== 'undefined') {\n",
       "    var baseURL = require.toUrl('').split('/').slice(0, -2).join('/');\n",
       "} else {\n",
       "    var baseURL = JSON.parse(\n",
       "        document.getElementById('jupyter-config-data').innerHTML\n",
       "    ).baseUrl.slice(0, -1);\n",
       "}\n",
       "url = baseURL + url;\n",
       "fetch(url).then(function(res) {\n",
       "    if (res.status === 404) {\n",
       "        div.innerHTML = 'Install QIIME 2 Jupyter extension with:<br />' +\n",
       "                        '<code>jupyter serverextension enable --py qiime2' +\n",
       "                        ' --sys-prefix</code><br />then restart your server.' +\n",
       "                        '<br /><br />(Interactive output not available on ' +\n",
       "                        'static notebook viewer services like nbviewer.)';\n",
       "    } else if (res.status === 409) {\n",
       "        div.innerHTML = 'Visualization no longer in scope. Re-run this cell' +\n",
       "                        ' to see the visualization.';\n",
       "    } else if (res.ok) {\n",
       "        url = res.url;\n",
       "        div.innerHTML = '<iframe src=\\'' + url + '\\' style=\\'' +\n",
       "                        'width: 100%; height: 700px; border: 0;\\'>' +\n",
       "                        '</iframe><hr />Open in a: <a href=\\'' + url + '\\'' +\n",
       "                        ' target=\\'_blank\\'>new window</a>'\n",
       "    } else {\n",
       "        div.innerHTML = 'Something has gone wrong. Check notebook server for' +\n",
       "                        ' errors.';\n",
       "    }\n",
       "});\n",
       "})(this.parentElement, '/qiime2/redirect?location=/var/folders/tm/f8q3_wcj5s98dwjv86bvq7hr0000gn/T/qiime2-archive-lr8czt0g')\" src=\"data:image/gif;base64,R0lGODlhAQABAIAAAP///wAAACH5BAEAAAAALAAAAAABAAEAAAICRAEAOw==\" /></div>"
      ],
      "text/plain": [
       "<visualization: Visualization uuid: b6a33c00-6094-413b-ada5-d112e019eef9>"
      ]
     },
     "execution_count": 99,
     "metadata": {},
     "output_type": "execute_result"
    }
   ],
   "source": [
    "differential_vis.visualization"
   ]
  }
 ],
 "metadata": {
  "kernelspec": {
   "display_name": "qiime2-2020.2",
   "language": "python",
   "name": "qiime2-2020.2"
  },
  "language_info": {
   "codemirror_mode": {
    "name": "ipython",
    "version": 3
   },
   "file_extension": ".py",
   "mimetype": "text/x-python",
   "name": "python",
   "nbconvert_exporter": "python",
   "pygments_lexer": "ipython3",
   "version": "3.6.7"
  }
 },
 "nbformat": 4,
 "nbformat_minor": 4
}
