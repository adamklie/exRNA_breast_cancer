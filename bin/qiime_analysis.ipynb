{
 "cells": [
  {
   "cell_type": "markdown",
   "metadata": {},
   "source": [
    "# Import data into Qiime2 and analyze\n",
    "#### Adam Klie<br>05/23/2020\n",
    "Import data from kraken2 output and analyze in Qiime2"
   ]
  },
  {
   "cell_type": "code",
   "execution_count": 33,
   "metadata": {},
   "outputs": [
    {
     "name": "stdout",
     "output_type": "stream",
     "text": [
      "(qiime2-2020.2) (qiime2-2020.2) (qiime2-2020.2) "
     ]
    },
    {
     "ename": "",
     "evalue": "1",
     "output_type": "error",
     "traceback": []
    }
   ],
   "source": [
    "# Define input and output directories\n",
    "KRAKEN=/home/aklie/scratch/exRNA_breast_cancer/kraken/kraken_out\n",
    "QIIME=/home/aklie/scratch/exRNA_breast_cancer/qiime\n",
    "METADATA=/home/aklie/scratch/exRNA_breast_cancer/fastq"
   ]
  },
  {
   "cell_type": "markdown",
   "metadata": {},
   "source": [
    "### Convert kraken2 output to biom table using [kraken-biom](https://github.com/smdabdoub/kraken-biom)"
   ]
  },
  {
   "cell_type": "code",
   "execution_count": null,
   "metadata": {},
   "outputs": [],
   "source": [
    "# Activate environment with kraken-biom dowloaded\n",
    "source activate utilities"
   ]
  },
  {
   "cell_type": "code",
   "execution_count": null,
   "metadata": {},
   "outputs": [],
   "source": [
    "# Convert kraken out to biom\n",
    "kraken-biom $KRAKEN/*.kreport2 -o $QIIME/table.biom"
   ]
  },
  {
   "cell_type": "markdown",
   "metadata": {},
   "source": [
    "### Import biom table into Qiime2"
   ]
  },
  {
   "cell_type": "code",
   "execution_count": 2,
   "metadata": {},
   "outputs": [
    {
     "name": "stdout",
     "output_type": "stream",
     "text": [
      "(qiime2-2020.2) "
     ]
    },
    {
     "ename": "",
     "evalue": "1",
     "output_type": "error",
     "traceback": []
    }
   ],
   "source": [
    "source activate qiime2-2020.2"
   ]
  },
  {
   "cell_type": "code",
   "execution_count": 35,
   "metadata": {},
   "outputs": [
    {
     "name": "stdout",
     "output_type": "stream",
     "text": [
      "(qiime2-2020.2) (qiime2-2020.2) "
     ]
    },
    {
     "ename": "",
     "evalue": "1",
     "output_type": "error",
     "traceback": []
    }
   ],
   "source": [
    "cp $METADATA/sample_metadata.tsv $QIIME\n",
    "cp $METADATA/recurrence_metadata.tsv $QIIME"
   ]
  },
  {
   "cell_type": "code",
   "execution_count": 42,
   "metadata": {},
   "outputs": [
    {
     "name": "stdout",
     "output_type": "stream",
     "text": [
      "Num samples: 128\n",
      "Num observations: 3,385\n",
      "Total count: 1,840,148\n",
      "Table density (fraction of non-zero values): 0.072\n",
      "\n",
      "Counts/sample summary:\n",
      " Min: 77.000\n",
      " Max: 127,332.000\n",
      " Median: 6,109.000\n",
      " Mean: 14,376.156\n",
      "(qiime2-2020.2) "
     ]
    },
    {
     "ename": "",
     "evalue": "1",
     "output_type": "error",
     "traceback": []
    }
   ],
   "source": [
    "biom summarize-table -i $QIIME/table.biom | head"
   ]
  },
  {
   "cell_type": "code",
   "execution_count": 28,
   "metadata": {},
   "outputs": [
    {
     "name": "stdout",
     "output_type": "stream",
     "text": [
      "\u001b[32mImported /home/aklie/scratch/exRNA_breast_cancer/qiime/table.biom as BIOMV210Format to /home/aklie/scratch/exRNA_breast_cancer/qiime/feature-table.qza\u001b[0m\n",
      "(qiime2-2020.2) (qiime2-2020.2) \u001b[32mImported /home/aklie/scratch/exRNA_breast_cancer/qiime/table.biom as BIOMV210Format to /home/aklie/scratch/exRNA_breast_cancer/qiime/feature-taxonomy.qza\u001b[0m\n",
      "(qiime2-2020.2) "
     ]
    },
    {
     "ename": "",
     "evalue": "1",
     "output_type": "error",
     "traceback": []
    }
   ],
   "source": [
    "# Import feature table\n",
    "qiime tools import \\\n",
    "    --input-path ${QIIME}/table.biom \\\n",
    "    --type 'FeatureTable[Frequency]' \\\n",
    "    --input-format BIOMV210Format \\\n",
    "    --output-path ${QIIME}/feature-table.qza\n",
    "    \n",
    "# Import taxonomic classification\n",
    "qiime tools import \\\n",
    "    --input-path ${QIIME}/table.biom \\\n",
    "    --type 'FeatureData[Taxonomy]' \\\n",
    "    --input-format BIOMV210Format \\\n",
    "    --output-path ${QIIME}/feature-taxonomy.qza"
   ]
  },
  {
   "cell_type": "markdown",
   "metadata": {},
   "source": [
    "#### Visualizations"
   ]
  },
  {
   "cell_type": "code",
   "execution_count": 29,
   "metadata": {},
   "outputs": [
    {
     "name": "stdout",
     "output_type": "stream",
     "text": [
      "\u001b[32mSaved Visualization to: feature-table.qzv\u001b[0m\n",
      "(qiime2-2020.2) (qiime2-2020.2) \u001b[32mSaved Visualization to: feature-taxonomy.qzv\u001b[0m\n",
      "(qiime2-2020.2) "
     ]
    },
    {
     "ename": "",
     "evalue": "1",
     "output_type": "error",
     "traceback": []
    }
   ],
   "source": [
    "# Create some qiime2 visualization\n",
    "qiime feature-table summarize \\\n",
    "    --i-table ${QIIME}/feature-table.qza \\\n",
    "    --m-sample-metadata-file ${QIIME}/sample_metadata.tsv \\\n",
    "    --o-visualization ${QIIME}/feature-table.qzv\n",
    "\n",
    "qiime metadata tabulate \\\n",
    "    --m-input-file ${QIIME}/feature-taxonomy.qza \\\n",
    "    --o-visualization ${QIIME}/feature-taxonomy.qzv"
   ]
  },
  {
   "cell_type": "markdown",
   "metadata": {},
   "source": [
    "### Sample classification with Qiime"
   ]
  },
  {
   "cell_type": "markdown",
   "metadata": {},
   "source": [
    "#### Cancer vs non-cancer"
   ]
  },
  {
   "cell_type": "code",
   "execution_count": 30,
   "metadata": {},
   "outputs": [
    {
     "name": "stdout",
     "output_type": "stream",
     "text": [
      "\u001b[32mSaved SampleEstimator[Classifier] to: /home/aklie/scratch/exRNA_breast_cancer/qiime/cancer_classification/sample_estimator.qza\u001b[0m\n",
      "\u001b[32mSaved FeatureData[Importance] to: /home/aklie/scratch/exRNA_breast_cancer/qiime/cancer_classification/feature_importance.qza\u001b[0m\n",
      "\u001b[32mSaved SampleData[ClassifierPredictions] to: /home/aklie/scratch/exRNA_breast_cancer/qiime/cancer_classification/predictions.qza\u001b[0m\n",
      "\u001b[32mSaved Visualization to: /home/aklie/scratch/exRNA_breast_cancer/qiime/cancer_classification/model_summary.qzv\u001b[0m\n",
      "\u001b[32mSaved Visualization to: /home/aklie/scratch/exRNA_breast_cancer/qiime/cancer_classification/accuracy_results.qzv\u001b[0m\n",
      "\u001b[32mSaved SampleData[Probabilities] to: /home/aklie/scratch/exRNA_breast_cancer/qiime/cancer_classification/probabilities.qza\u001b[0m\n",
      "\u001b[32mSaved Visualization to: /home/aklie/scratch/exRNA_breast_cancer/qiime/cancer_classification/heatmap.qzv\u001b[0m\n",
      "(qiime2-2020.2) "
     ]
    },
    {
     "ename": "",
     "evalue": "1",
     "output_type": "error",
     "traceback": []
    }
   ],
   "source": [
    "qiime sample-classifier classify-samples \\\n",
    "    --i-table ${QIIME}/feature-table.qza \\\n",
    "    --m-metadata-file ${QIIME}/sample_metadata.tsv \\\n",
    "    --m-metadata-column condition \\\n",
    "    --p-parameter-tuning \\\n",
    "    --output-dir ${QIIME}/cancer_classification"
   ]
  },
  {
   "cell_type": "markdown",
   "metadata": {},
   "source": [
    "#### Recurrence vs non-recurrence"
   ]
  },
  {
   "cell_type": "code",
   "execution_count": 40,
   "metadata": {},
   "outputs": [
    {
     "name": "stdout",
     "output_type": "stream",
     "text": [
      "\u001b[32mSaved FeatureTable[Frequency] to: /home/aklie/scratch/exRNA_breast_cancer/qiime/recurrence-table.qza\u001b[0m\n",
      "(qiime2-2020.2) "
     ]
    },
    {
     "ename": "",
     "evalue": "1",
     "output_type": "error",
     "traceback": []
    }
   ],
   "source": [
    "# Filter feature table for only those cancer samples\n",
    "qiime feature-table filter-samples \\\n",
    "    --i-table ${QIIME}/feature-table.qza \\\n",
    "    --m-metadata-file ${QIIME}/recurrence_metadata.tsv \\\n",
    "    --o-filtered-table ${QIIME}/recurrence-table.qza"
   ]
  },
  {
   "cell_type": "code",
   "execution_count": 41,
   "metadata": {},
   "outputs": [
    {
     "name": "stdout",
     "output_type": "stream",
     "text": [
      "\u001b[32mSaved SampleEstimator[Classifier] to: /home/aklie/scratch/exRNA_breast_cancer/qiime/recurrence_classification/sample_estimator.qza\u001b[0m\n",
      "\u001b[32mSaved FeatureData[Importance] to: /home/aklie/scratch/exRNA_breast_cancer/qiime/recurrence_classification/feature_importance.qza\u001b[0m\n",
      "\u001b[32mSaved SampleData[ClassifierPredictions] to: /home/aklie/scratch/exRNA_breast_cancer/qiime/recurrence_classification/predictions.qza\u001b[0m\n",
      "\u001b[32mSaved Visualization to: /home/aklie/scratch/exRNA_breast_cancer/qiime/recurrence_classification/model_summary.qzv\u001b[0m\n",
      "\u001b[32mSaved Visualization to: /home/aklie/scratch/exRNA_breast_cancer/qiime/recurrence_classification/accuracy_results.qzv\u001b[0m\n",
      "\u001b[32mSaved SampleData[Probabilities] to: /home/aklie/scratch/exRNA_breast_cancer/qiime/recurrence_classification/probabilities.qza\u001b[0m\n",
      "\u001b[32mSaved Visualization to: /home/aklie/scratch/exRNA_breast_cancer/qiime/recurrence_classification/heatmap.qzv\u001b[0m\n",
      "(qiime2-2020.2) "
     ]
    },
    {
     "ename": "",
     "evalue": "1",
     "output_type": "error",
     "traceback": []
    }
   ],
   "source": [
    "qiime sample-classifier classify-samples \\\n",
    "    --i-table ${QIIME}/recurrence-table.qza \\\n",
    "    --m-metadata-file ${QIIME}/recurrence_metadata.tsv \\\n",
    "    --m-metadata-column recurrence \\\n",
    "    --p-parameter-tuning \\\n",
    "    --output-dir ${QIIME}/recurrence_classification"
   ]
  }
 ],
 "metadata": {
  "kernelspec": {
   "display_name": "Bash",
   "language": "bash",
   "name": "bash"
  },
  "language_info": {
   "codemirror_mode": "shell",
   "file_extension": ".sh",
   "mimetype": "text/x-sh",
   "name": "bash"
  }
 },
 "nbformat": 4,
 "nbformat_minor": 2
}
