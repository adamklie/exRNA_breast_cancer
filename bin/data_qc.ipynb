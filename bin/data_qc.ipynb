{
 "cells": [
  {
   "cell_type": "markdown",
   "metadata": {},
   "source": [
    "# Data overview\n",
    "#### Adam Kli<br>05/23/2020\n",
    "Notebook to generate tab delimeted statistics and general analysis of data"
   ]
  },
  {
   "cell_type": "code",
   "execution_count": 2,
   "metadata": {},
   "outputs": [
    {
     "name": "stdout",
     "output_type": "stream",
     "text": [
      "bash: activate: No such file or directory\n",
      "(utilities) (utilities) (utilities) (utilities) "
     ]
    },
    {
     "ename": "",
     "evalue": "1",
     "output_type": "error",
     "traceback": []
    }
   ],
   "source": [
    "source activate utilities\n",
    "RESULTS=/home/aklie/projects/exRNA_breast_cancer/results\n",
    "touch $RESULTS/num_seqs.tsv\n",
    "echo -e \"ID\\tRAW_READS\\tUNALIGNED_READS\\tCLASSIFIED_READS\" >> $RESULTS/num_seqs.tsv"
   ]
  },
  {
   "cell_type": "markdown",
   "metadata": {},
   "source": [
    "## IDS"
   ]
  },
  {
   "cell_type": "code",
   "execution_count": 3,
   "metadata": {},
   "outputs": [
    {
     "name": "stdout",
     "output_type": "stream",
     "text": [
      "(utilities) (utilities) (utilities) "
     ]
    },
    {
     "ename": "",
     "evalue": "1",
     "output_type": "error",
     "traceback": []
    }
   ],
   "source": [
    "DATA=/home/aklie/scratch/exRNA_breast_cancer/fastq\n",
    "touch $RESULTS/SRR_ids.list\n",
    "cat $DATA/SRR_Acc_List_NonIndex.txt >> $RESULTS/SRR_ids.list"
   ]
  },
  {
   "cell_type": "markdown",
   "metadata": {},
   "source": [
    "## Downloaded fastqs"
   ]
  },
  {
   "cell_type": "code",
   "execution_count": 4,
   "metadata": {},
   "outputs": [
    {
     "name": "stdout",
     "output_type": "stream",
     "text": [
      "(utilities) (utilities) (utilities) "
     ]
    },
    {
     "ename": "",
     "evalue": "1",
     "output_type": "error",
     "traceback": []
    }
   ],
   "source": [
    "FASTQS=/home/aklie/scratch/exRNA_breast_cancer/fastq/fqs\n",
    "touch $RESULTS/num_reads.list\n",
    "for i in $FASTQS/*.fastq.gz\n",
    "do\n",
    "    echo $(zcat $i | wc -l)/4 | bc >> $RESULTS/num_reads.list\n",
    "done"
   ]
  },
  {
   "cell_type": "markdown",
   "metadata": {},
   "source": [
    "## Unaligned bams"
   ]
  },
  {
   "cell_type": "code",
   "execution_count": 5,
   "metadata": {},
   "outputs": [
    {
     "name": "stdout",
     "output_type": "stream",
     "text": [
      "(utilities) (utilities) (utilities) "
     ]
    },
    {
     "ename": "",
     "evalue": "1",
     "output_type": "error",
     "traceback": []
    }
   ],
   "source": [
    "BAMS=/home/aklie/scratch/exRNA_breast_cancer/bam/bams\n",
    "touch $RESULTS/num_unaligned.list\n",
    "for i in $BAMS/*.unmapped.bam\n",
    "do\n",
    "    samtools view -c $i >> $RESULTS/num_unaligned.list\n",
    "done"
   ]
  },
  {
   "cell_type": "markdown",
   "metadata": {},
   "source": [
    "## Classified reads"
   ]
  },
  {
   "cell_type": "code",
   "execution_count": 6,
   "metadata": {},
   "outputs": [
    {
     "name": "stdout",
     "output_type": "stream",
     "text": [
      "(utilities) (utilities) (utilities) "
     ]
    },
    {
     "ename": "",
     "evalue": "1",
     "output_type": "error",
     "traceback": []
    }
   ],
   "source": [
    "KRAKEN=/home/aklie/scratch/exRNA_breast_cancer/kraken\n",
    "touch $RESULTS/num_classified.list\n",
    "biom summarize-table -i $KRAKEN/table.biom | \\\n",
    "    grep \".unmapped\" | \\\n",
    "    sort | \\\n",
    "    cut -d \":\" -f 2 | \\\n",
    "    cut -d \".\" -f 1 | \\\n",
    "    sed 's/,//' \\\n",
    "    >> $RESULTS/num_classified.list"
   ]
  },
  {
   "cell_type": "markdown",
   "metadata": {},
   "source": [
    "## General"
   ]
  },
  {
   "cell_type": "code",
   "execution_count": 7,
   "metadata": {},
   "outputs": [
    {
     "name": "stdout",
     "output_type": "stream",
     "text": [
      "(utilities) "
     ]
    },
    {
     "ename": "",
     "evalue": "1",
     "output_type": "error",
     "traceback": []
    }
   ],
   "source": [
    "paste \\\n",
    "    $RESULTS/SRR_ids.list \\\n",
    "    $RESULTS/num_reads.list \\\n",
    "    $RESULTS/num_unaligned.list \\\n",
    "    $RESULTS/num_classified.list \\\n",
    "    >> $RESULTS/num_seqs.tsv"
   ]
  },
  {
   "cell_type": "markdown",
   "metadata": {},
   "source": [
    "## Clean-up"
   ]
  },
  {
   "cell_type": "code",
   "execution_count": 8,
   "metadata": {},
   "outputs": [
    {
     "name": "stdout",
     "output_type": "stream",
     "text": [
      "rm: remove 4 arguments? yes: standard output: Broken pipe\n",
      "yes: write error\n",
      "(utilities) "
     ]
    },
    {
     "ename": "",
     "evalue": "1",
     "output_type": "error",
     "traceback": []
    }
   ],
   "source": [
    "yes \"yes\" | rm $RESULTS/*.list"
   ]
  }
 ],
 "metadata": {
  "kernelspec": {
   "display_name": "Bash",
   "language": "bash",
   "name": "bash"
  },
  "language_info": {
   "codemirror_mode": "shell",
   "file_extension": ".sh",
   "mimetype": "text/x-sh",
   "name": "bash"
  }
 },
 "nbformat": 4,
 "nbformat_minor": 2
}
