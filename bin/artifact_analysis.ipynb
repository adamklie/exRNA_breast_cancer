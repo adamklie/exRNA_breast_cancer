{
 "cells": [
  {
   "cell_type": "markdown",
   "metadata": {},
   "source": [
    "# Artifact analysis\n",
    "#### Adam Klie<br>05/30/2020\n",
    "Analyze Qiime2 feature table"
   ]
  },
  {
   "cell_type": "code",
   "execution_count": 1,
   "metadata": {},
   "outputs": [],
   "source": [
    "import qiime2\n",
    "import pandas as pd\n",
    "import numpy as np\n",
    "\n",
    "import matplotlib.pyplot as plt\n",
    "from matplotlib import cm\n",
    "from matplotlib.colors import ListedColormap, LinearSegmentedColormap\n",
    "%matplotlib inline"
   ]
  },
  {
   "cell_type": "code",
   "execution_count": 2,
   "metadata": {},
   "outputs": [],
   "source": [
    "data_dir = '../results/qiime'"
   ]
  },
  {
   "cell_type": "markdown",
   "metadata": {},
   "source": [
    "#### Load metadata"
   ]
  },
  {
   "cell_type": "code",
   "execution_count": 3,
   "metadata": {},
   "outputs": [],
   "source": [
    "m_data = qiime2.Metadata.load('{}/sample_metadata.tsv'.format(data_dir))"
   ]
  },
  {
   "cell_type": "code",
   "execution_count": 4,
   "metadata": {},
   "outputs": [],
   "source": [
    "metadata_df = m_data.to_dataframe()"
   ]
  },
  {
   "cell_type": "code",
   "execution_count": 5,
   "metadata": {},
   "outputs": [
    {
     "data": {
      "text/html": [
       "<div>\n",
       "<style scoped>\n",
       "    .dataframe tbody tr th:only-of-type {\n",
       "        vertical-align: middle;\n",
       "    }\n",
       "\n",
       "    .dataframe tbody tr th {\n",
       "        vertical-align: top;\n",
       "    }\n",
       "\n",
       "    .dataframe thead th {\n",
       "        text-align: right;\n",
       "    }\n",
       "</style>\n",
       "<table border=\"1\" class=\"dataframe\">\n",
       "  <thead>\n",
       "    <tr style=\"text-align: right;\">\n",
       "      <th></th>\n",
       "      <th>gender</th>\n",
       "      <th>condition</th>\n",
       "      <th>recurrence</th>\n",
       "    </tr>\n",
       "    <tr>\n",
       "      <th>sampleid</th>\n",
       "      <th></th>\n",
       "      <th></th>\n",
       "      <th></th>\n",
       "    </tr>\n",
       "  </thead>\n",
       "  <tbody>\n",
       "    <tr>\n",
       "      <th>SRR9094428.unmapped</th>\n",
       "      <td>female</td>\n",
       "      <td>cancer</td>\n",
       "      <td>yes</td>\n",
       "    </tr>\n",
       "    <tr>\n",
       "      <th>SRR9094429.unmapped</th>\n",
       "      <td>female</td>\n",
       "      <td>cancer</td>\n",
       "      <td>yes</td>\n",
       "    </tr>\n",
       "    <tr>\n",
       "      <th>SRR9094430.unmapped</th>\n",
       "      <td>female</td>\n",
       "      <td>cancer</td>\n",
       "      <td>yes</td>\n",
       "    </tr>\n",
       "    <tr>\n",
       "      <th>SRR9094431.unmapped</th>\n",
       "      <td>female</td>\n",
       "      <td>cancer</td>\n",
       "      <td>yes</td>\n",
       "    </tr>\n",
       "    <tr>\n",
       "      <th>SRR9094432.unmapped</th>\n",
       "      <td>female</td>\n",
       "      <td>cancer</td>\n",
       "      <td>yes</td>\n",
       "    </tr>\n",
       "  </tbody>\n",
       "</table>\n",
       "</div>"
      ],
      "text/plain": [
       "                     gender condition recurrence\n",
       "sampleid                                        \n",
       "SRR9094428.unmapped  female    cancer        yes\n",
       "SRR9094429.unmapped  female    cancer        yes\n",
       "SRR9094430.unmapped  female    cancer        yes\n",
       "SRR9094431.unmapped  female    cancer        yes\n",
       "SRR9094432.unmapped  female    cancer        yes"
      ]
     },
     "execution_count": 5,
     "metadata": {},
     "output_type": "execute_result"
    }
   ],
   "source": [
    "metadata_df.head()"
   ]
  },
  {
   "cell_type": "markdown",
   "metadata": {},
   "source": [
    "#### Load in feature table artifact\n",
    "1. Save as pd.DataFrame\n",
    "2. Grab per feature counts"
   ]
  },
  {
   "cell_type": "code",
   "execution_count": 18,
   "metadata": {},
   "outputs": [],
   "source": [
    "f_table = qiime2.Artifact.load('{}/feature-table.qza'.format(data_dir))"
   ]
  },
  {
   "cell_type": "code",
   "execution_count": 28,
   "metadata": {},
   "outputs": [],
   "source": [
    "#qiime2.Visualization.load('{}/feature-table.qzv'.format(data_dir))"
   ]
  },
  {
   "cell_type": "code",
   "execution_count": 29,
   "metadata": {},
   "outputs": [],
   "source": [
    "feature_df = f_table.view(pd.DataFrame)"
   ]
  },
  {
   "cell_type": "code",
   "execution_count": 30,
   "metadata": {},
   "outputs": [
    {
     "data": {
      "text/html": [
       "<div>\n",
       "<style scoped>\n",
       "    .dataframe tbody tr th:only-of-type {\n",
       "        vertical-align: middle;\n",
       "    }\n",
       "\n",
       "    .dataframe tbody tr th {\n",
       "        vertical-align: top;\n",
       "    }\n",
       "\n",
       "    .dataframe thead th {\n",
       "        text-align: right;\n",
       "    }\n",
       "</style>\n",
       "<table border=\"1\" class=\"dataframe\">\n",
       "  <thead>\n",
       "    <tr style=\"text-align: right;\">\n",
       "      <th></th>\n",
       "      <th>80840</th>\n",
       "      <th>119060</th>\n",
       "      <th>32008</th>\n",
       "      <th>292</th>\n",
       "      <th>482957</th>\n",
       "      <th>60552</th>\n",
       "      <th>179879</th>\n",
       "      <th>488731</th>\n",
       "      <th>95486</th>\n",
       "      <th>60550</th>\n",
       "      <th>...</th>\n",
       "      <th>336988</th>\n",
       "      <th>712528</th>\n",
       "      <th>1954172</th>\n",
       "      <th>120962</th>\n",
       "      <th>106</th>\n",
       "      <th>2025876</th>\n",
       "      <th>277944</th>\n",
       "      <th>1714845</th>\n",
       "      <th>1349</th>\n",
       "      <th>1299</th>\n",
       "    </tr>\n",
       "  </thead>\n",
       "  <tbody>\n",
       "    <tr>\n",
       "      <th>SRR9094428.unmapped</th>\n",
       "      <td>225.0</td>\n",
       "      <td>37.0</td>\n",
       "      <td>395.0</td>\n",
       "      <td>322.0</td>\n",
       "      <td>52.0</td>\n",
       "      <td>30.0</td>\n",
       "      <td>22.0</td>\n",
       "      <td>21.0</td>\n",
       "      <td>17.0</td>\n",
       "      <td>11.0</td>\n",
       "      <td>...</td>\n",
       "      <td>0.0</td>\n",
       "      <td>0.0</td>\n",
       "      <td>0.0</td>\n",
       "      <td>0.0</td>\n",
       "      <td>0.0</td>\n",
       "      <td>0.0</td>\n",
       "      <td>0.0</td>\n",
       "      <td>0.0</td>\n",
       "      <td>0.0</td>\n",
       "      <td>0.0</td>\n",
       "    </tr>\n",
       "    <tr>\n",
       "      <th>SRR9094429.unmapped</th>\n",
       "      <td>519.0</td>\n",
       "      <td>228.0</td>\n",
       "      <td>980.0</td>\n",
       "      <td>847.0</td>\n",
       "      <td>51.0</td>\n",
       "      <td>0.0</td>\n",
       "      <td>1.0</td>\n",
       "      <td>15.0</td>\n",
       "      <td>54.0</td>\n",
       "      <td>8.0</td>\n",
       "      <td>...</td>\n",
       "      <td>0.0</td>\n",
       "      <td>0.0</td>\n",
       "      <td>0.0</td>\n",
       "      <td>0.0</td>\n",
       "      <td>0.0</td>\n",
       "      <td>0.0</td>\n",
       "      <td>0.0</td>\n",
       "      <td>0.0</td>\n",
       "      <td>0.0</td>\n",
       "      <td>0.0</td>\n",
       "    </tr>\n",
       "    <tr>\n",
       "      <th>SRR9094430.unmapped</th>\n",
       "      <td>168.0</td>\n",
       "      <td>53.0</td>\n",
       "      <td>353.0</td>\n",
       "      <td>203.0</td>\n",
       "      <td>10.0</td>\n",
       "      <td>0.0</td>\n",
       "      <td>0.0</td>\n",
       "      <td>18.0</td>\n",
       "      <td>30.0</td>\n",
       "      <td>11.0</td>\n",
       "      <td>...</td>\n",
       "      <td>0.0</td>\n",
       "      <td>0.0</td>\n",
       "      <td>0.0</td>\n",
       "      <td>0.0</td>\n",
       "      <td>0.0</td>\n",
       "      <td>0.0</td>\n",
       "      <td>0.0</td>\n",
       "      <td>0.0</td>\n",
       "      <td>0.0</td>\n",
       "      <td>0.0</td>\n",
       "    </tr>\n",
       "    <tr>\n",
       "      <th>SRR9094431.unmapped</th>\n",
       "      <td>61.0</td>\n",
       "      <td>38.0</td>\n",
       "      <td>211.0</td>\n",
       "      <td>174.0</td>\n",
       "      <td>17.0</td>\n",
       "      <td>0.0</td>\n",
       "      <td>4.0</td>\n",
       "      <td>4.0</td>\n",
       "      <td>24.0</td>\n",
       "      <td>1.0</td>\n",
       "      <td>...</td>\n",
       "      <td>0.0</td>\n",
       "      <td>0.0</td>\n",
       "      <td>0.0</td>\n",
       "      <td>0.0</td>\n",
       "      <td>0.0</td>\n",
       "      <td>0.0</td>\n",
       "      <td>0.0</td>\n",
       "      <td>0.0</td>\n",
       "      <td>0.0</td>\n",
       "      <td>0.0</td>\n",
       "    </tr>\n",
       "    <tr>\n",
       "      <th>SRR9094432.unmapped</th>\n",
       "      <td>79.0</td>\n",
       "      <td>42.0</td>\n",
       "      <td>310.0</td>\n",
       "      <td>207.0</td>\n",
       "      <td>23.0</td>\n",
       "      <td>0.0</td>\n",
       "      <td>0.0</td>\n",
       "      <td>1.0</td>\n",
       "      <td>51.0</td>\n",
       "      <td>6.0</td>\n",
       "      <td>...</td>\n",
       "      <td>0.0</td>\n",
       "      <td>0.0</td>\n",
       "      <td>0.0</td>\n",
       "      <td>0.0</td>\n",
       "      <td>0.0</td>\n",
       "      <td>0.0</td>\n",
       "      <td>0.0</td>\n",
       "      <td>0.0</td>\n",
       "      <td>0.0</td>\n",
       "      <td>0.0</td>\n",
       "    </tr>\n",
       "  </tbody>\n",
       "</table>\n",
       "<p>5 rows × 3385 columns</p>\n",
       "</div>"
      ],
      "text/plain": [
       "                     80840  119060  32008    292  482957  60552  179879  \\\n",
       "SRR9094428.unmapped  225.0    37.0  395.0  322.0    52.0   30.0    22.0   \n",
       "SRR9094429.unmapped  519.0   228.0  980.0  847.0    51.0    0.0     1.0   \n",
       "SRR9094430.unmapped  168.0    53.0  353.0  203.0    10.0    0.0     0.0   \n",
       "SRR9094431.unmapped   61.0    38.0  211.0  174.0    17.0    0.0     4.0   \n",
       "SRR9094432.unmapped   79.0    42.0  310.0  207.0    23.0    0.0     0.0   \n",
       "\n",
       "                     488731  95486  60550  ...  336988  712528  1954172  \\\n",
       "SRR9094428.unmapped    21.0   17.0   11.0  ...     0.0     0.0      0.0   \n",
       "SRR9094429.unmapped    15.0   54.0    8.0  ...     0.0     0.0      0.0   \n",
       "SRR9094430.unmapped    18.0   30.0   11.0  ...     0.0     0.0      0.0   \n",
       "SRR9094431.unmapped     4.0   24.0    1.0  ...     0.0     0.0      0.0   \n",
       "SRR9094432.unmapped     1.0   51.0    6.0  ...     0.0     0.0      0.0   \n",
       "\n",
       "                     120962  106  2025876  277944  1714845  1349  1299  \n",
       "SRR9094428.unmapped     0.0  0.0      0.0     0.0      0.0   0.0   0.0  \n",
       "SRR9094429.unmapped     0.0  0.0      0.0     0.0      0.0   0.0   0.0  \n",
       "SRR9094430.unmapped     0.0  0.0      0.0     0.0      0.0   0.0   0.0  \n",
       "SRR9094431.unmapped     0.0  0.0      0.0     0.0      0.0   0.0   0.0  \n",
       "SRR9094432.unmapped     0.0  0.0      0.0     0.0      0.0   0.0   0.0  \n",
       "\n",
       "[5 rows x 3385 columns]"
      ]
     },
     "execution_count": 30,
     "metadata": {},
     "output_type": "execute_result"
    }
   ],
   "source": [
    "feature_df.head()"
   ]
  },
  {
   "cell_type": "code",
   "execution_count": 31,
   "metadata": {},
   "outputs": [],
   "source": [
    "feature_df.to_csv('{}/dataframes/feature_table.tsv'.format(data_dir), '\\t', index=True)"
   ]
  },
  {
   "cell_type": "code",
   "execution_count": 32,
   "metadata": {},
   "outputs": [],
   "source": [
    "feature_counts = pd.DataFrame(feature_df.sum(axis=0), columns=[\"count\"])"
   ]
  },
  {
   "cell_type": "code",
   "execution_count": 33,
   "metadata": {},
   "outputs": [
    {
     "data": {
      "text/html": [
       "<div>\n",
       "<style scoped>\n",
       "    .dataframe tbody tr th:only-of-type {\n",
       "        vertical-align: middle;\n",
       "    }\n",
       "\n",
       "    .dataframe tbody tr th {\n",
       "        vertical-align: top;\n",
       "    }\n",
       "\n",
       "    .dataframe thead th {\n",
       "        text-align: right;\n",
       "    }\n",
       "</style>\n",
       "<table border=\"1\" class=\"dataframe\">\n",
       "  <thead>\n",
       "    <tr style=\"text-align: right;\">\n",
       "      <th></th>\n",
       "      <th>count</th>\n",
       "    </tr>\n",
       "  </thead>\n",
       "  <tbody>\n",
       "    <tr>\n",
       "      <th>80840</th>\n",
       "      <td>67624.0</td>\n",
       "    </tr>\n",
       "    <tr>\n",
       "      <th>119060</th>\n",
       "      <td>13576.0</td>\n",
       "    </tr>\n",
       "    <tr>\n",
       "      <th>32008</th>\n",
       "      <td>51119.0</td>\n",
       "    </tr>\n",
       "    <tr>\n",
       "      <th>292</th>\n",
       "      <td>35766.0</td>\n",
       "    </tr>\n",
       "    <tr>\n",
       "      <th>482957</th>\n",
       "      <td>3887.0</td>\n",
       "    </tr>\n",
       "  </tbody>\n",
       "</table>\n",
       "</div>"
      ],
      "text/plain": [
       "          count\n",
       "80840   67624.0\n",
       "119060  13576.0\n",
       "32008   51119.0\n",
       "292     35766.0\n",
       "482957   3887.0"
      ]
     },
     "execution_count": 33,
     "metadata": {},
     "output_type": "execute_result"
    }
   ],
   "source": [
    "feature_counts.head()"
   ]
  },
  {
   "cell_type": "markdown",
   "metadata": {},
   "source": [
    "#### Load in taxonomy artifact\n",
    "1. Save as pd.DataFrame\n",
    "2. Plot taxominc grouping fractions"
   ]
  },
  {
   "cell_type": "code",
   "execution_count": 37,
   "metadata": {},
   "outputs": [],
   "source": [
    "tax = qiime2.Artifact.load('{}/feature-taxonomy.qza'.format(data_dir))"
   ]
  },
  {
   "cell_type": "code",
   "execution_count": 38,
   "metadata": {},
   "outputs": [],
   "source": [
    "#qiime2.Visualization.load('{}/feature-taxonomy.qzv'.format(data_dir))"
   ]
  },
  {
   "cell_type": "code",
   "execution_count": 39,
   "metadata": {},
   "outputs": [],
   "source": [
    "tax_df = tax.view(pd.DataFrame)"
   ]
  },
  {
   "cell_type": "code",
   "execution_count": 40,
   "metadata": {},
   "outputs": [
    {
     "data": {
      "text/html": [
       "<div>\n",
       "<style scoped>\n",
       "    .dataframe tbody tr th:only-of-type {\n",
       "        vertical-align: middle;\n",
       "    }\n",
       "\n",
       "    .dataframe tbody tr th {\n",
       "        vertical-align: top;\n",
       "    }\n",
       "\n",
       "    .dataframe thead th {\n",
       "        text-align: right;\n",
       "    }\n",
       "</style>\n",
       "<table border=\"1\" class=\"dataframe\">\n",
       "  <thead>\n",
       "    <tr style=\"text-align: right;\">\n",
       "      <th></th>\n",
       "      <th>Taxon</th>\n",
       "    </tr>\n",
       "    <tr>\n",
       "      <th>Feature ID</th>\n",
       "      <th></th>\n",
       "    </tr>\n",
       "  </thead>\n",
       "  <tbody>\n",
       "    <tr>\n",
       "      <th>80840</th>\n",
       "      <td>k__Bacteria; p__Proteobacteria; c__Betaproteob...</td>\n",
       "    </tr>\n",
       "    <tr>\n",
       "      <th>119060</th>\n",
       "      <td>k__Bacteria; p__Proteobacteria; c__Betaproteob...</td>\n",
       "    </tr>\n",
       "    <tr>\n",
       "      <th>32008</th>\n",
       "      <td>k__Bacteria; p__Proteobacteria; c__Betaproteob...</td>\n",
       "    </tr>\n",
       "    <tr>\n",
       "      <th>292</th>\n",
       "      <td>k__Bacteria; p__Proteobacteria; c__Betaproteob...</td>\n",
       "    </tr>\n",
       "    <tr>\n",
       "      <th>482957</th>\n",
       "      <td>k__Bacteria; p__Proteobacteria; c__Betaproteob...</td>\n",
       "    </tr>\n",
       "  </tbody>\n",
       "</table>\n",
       "</div>"
      ],
      "text/plain": [
       "                                                        Taxon\n",
       "Feature ID                                                   \n",
       "80840       k__Bacteria; p__Proteobacteria; c__Betaproteob...\n",
       "119060      k__Bacteria; p__Proteobacteria; c__Betaproteob...\n",
       "32008       k__Bacteria; p__Proteobacteria; c__Betaproteob...\n",
       "292         k__Bacteria; p__Proteobacteria; c__Betaproteob...\n",
       "482957      k__Bacteria; p__Proteobacteria; c__Betaproteob..."
      ]
     },
     "execution_count": 40,
     "metadata": {},
     "output_type": "execute_result"
    }
   ],
   "source": [
    "tax_df.head()"
   ]
  },
  {
   "cell_type": "code",
   "execution_count": 41,
   "metadata": {},
   "outputs": [],
   "source": [
    "tax_df.to_csv('{}/dataframes/feature_taxonomy.tsv'.format(data_dir), '\\t', index=True)"
   ]
  },
  {
   "cell_type": "code",
   "execution_count": 65,
   "metadata": {},
   "outputs": [],
   "source": [
    "taxon_counts = {\"k\":0, \"p\":0, \"c\":0, \"o\":0, \"f\":0, \"g\":0, \"s\":0}\n",
    "for classification in tax_df[\"Taxon\"].values:\n",
    "    taxons = classification.split('; ')\n",
    "    for i, cl in enumerate(taxons):\n",
    "        if i > 0 and len(cl) < 4:\n",
    "            taxon_counts[taxons[i-1][0]] += 1\n",
    "            break\n",
    "        if i == len(taxons)-1:\n",
    "            taxon_counts[taxons[len(taxons)-1][0]] += 1"
   ]
  },
  {
   "cell_type": "code",
   "execution_count": 66,
   "metadata": {},
   "outputs": [],
   "source": [
    "taxon_counts = pd.Series(taxon_counts)"
   ]
  },
  {
   "cell_type": "code",
   "execution_count": 67,
   "metadata": {},
   "outputs": [],
   "source": [
    "taxon_frac = taxon_counts/taxon_counts.sum()"
   ]
  },
  {
   "cell_type": "code",
   "execution_count": 73,
   "metadata": {},
   "outputs": [
    {
     "data": {
      "image/png": "[encoded data removed]",
      "text/plain": [
       "<Figure size 720x432 with 1 Axes>"
      ]
     },
     "metadata": {
      "needs_background": "light"
     },
     "output_type": "display_data"
    }
   ],
   "source": [
    "ax = plt.figure(figsize=(10,6))\n",
    "ax = taxon_frac.plot.bar(color=[set_three(np.random.random()) for i in range(len(taxon_frac))], width=0.8)\n",
    "ax.set_xlabel(\"Taxonomic Group\", fontsize=18)\n",
    "ax.set_ylabel(\"Fraction of total\", fontsize=18)\n",
    "ax.set_xticklabels([\"Kingdom\", \"Phylum\", \"Class\", \"Order\", \"Family\", \"Genus\", \"Species\"], fontsize=18)\n",
    "plt.savefig('{}/figures/taxon_groupings.png'.format(data_dir))"
   ]
  },
  {
   "cell_type": "markdown",
   "metadata": {},
   "source": [
    "#### Classification\n",
    "1. Save DataFrames with\n",
    " - Feature details\n",
    " - Test set classifcation results"
   ]
  },
  {
   "cell_type": "code",
   "execution_count": 75,
   "metadata": {},
   "outputs": [],
   "source": [
    "# Choose model version\n",
    "version = 'v1'\n",
    "class_dir = '{}/dataframes/classification_{}'.format(data_dir, version)"
   ]
  },
  {
   "cell_type": "code",
   "execution_count": 76,
   "metadata": {},
   "outputs": [
    {
     "data": {
      "text/plain": [
       "'../results/qiime/dataframes/classification_v1'"
      ]
     },
     "execution_count": 76,
     "metadata": {},
     "output_type": "execute_result"
    }
   ],
   "source": [
    "class_dir"
   ]
  },
  {
   "cell_type": "code",
   "execution_count": 77,
   "metadata": {},
   "outputs": [
    {
     "data": {
      "text/plain": [
       "'../results/qiime/cancer_classification/v1'"
      ]
     },
     "execution_count": 77,
     "metadata": {},
     "output_type": "execute_result"
    }
   ],
   "source": [
    "# Choose either 'cancer' or 'recurrence'\n",
    "classification_type = 'cancer'\n",
    "cancer_dir = '{}/{}_classification/{}'.format(data_dir, classification_type, version)\n",
    "cancer_dir"
   ]
  },
  {
   "cell_type": "markdown",
   "metadata": {},
   "source": [
    "##### Model"
   ]
  },
  {
   "cell_type": "code",
   "execution_count": 78,
   "metadata": {},
   "outputs": [],
   "source": [
    "#qiime2.Visualization.load('{}/accuracy_results.qzv'.format(cancer_dir))\n",
    "#qiime2.Visualization.load('{}/model_summary.qzv'.format(cancer_dir))\n",
    "#qiime2.Visualization.load('{}/heatmap.qzv'.format(cancer_dir))"
   ]
  },
  {
   "cell_type": "markdown",
   "metadata": {},
   "source": [
    "##### Features"
   ]
  },
  {
   "cell_type": "code",
   "execution_count": 79,
   "metadata": {},
   "outputs": [],
   "source": [
    "importance_df = qiime2.Artifact.load('{}/feature_importance.qza'.format(cancer_dir)).view(pd.DataFrame)"
   ]
  },
  {
   "cell_type": "code",
   "execution_count": 80,
   "metadata": {},
   "outputs": [],
   "source": [
    "model_features = pd.concat([tax_df, importance_df, feature_counts], axis=1, join='inner')"
   ]
  },
  {
   "cell_type": "code",
   "execution_count": 81,
   "metadata": {},
   "outputs": [
    {
     "data": {
      "text/html": [
       "<div>\n",
       "<style scoped>\n",
       "    .dataframe tbody tr th:only-of-type {\n",
       "        vertical-align: middle;\n",
       "    }\n",
       "\n",
       "    .dataframe tbody tr th {\n",
       "        vertical-align: top;\n",
       "    }\n",
       "\n",
       "    .dataframe thead th {\n",
       "        text-align: right;\n",
       "    }\n",
       "</style>\n",
       "<table border=\"1\" class=\"dataframe\">\n",
       "  <thead>\n",
       "    <tr style=\"text-align: right;\">\n",
       "      <th></th>\n",
       "      <th>Taxon</th>\n",
       "      <th>importance</th>\n",
       "      <th>count</th>\n",
       "    </tr>\n",
       "  </thead>\n",
       "  <tbody>\n",
       "    <tr>\n",
       "      <th>29442</th>\n",
       "      <td>k__Bacteria; p__Proteobacteria; c__Gammaproteo...</td>\n",
       "      <td>0.043588</td>\n",
       "      <td>262354.0</td>\n",
       "    </tr>\n",
       "    <tr>\n",
       "      <th>1773</th>\n",
       "      <td>k__Bacteria; p__Actinobacteria; c__Actinobacte...</td>\n",
       "      <td>0.038742</td>\n",
       "      <td>17048.0</td>\n",
       "    </tr>\n",
       "    <tr>\n",
       "      <th>1916</th>\n",
       "      <td>k__Bacteria; p__Actinobacteria; c__Actinobacte...</td>\n",
       "      <td>0.026586</td>\n",
       "      <td>1595.0</td>\n",
       "    </tr>\n",
       "    <tr>\n",
       "      <th>1280</th>\n",
       "      <td>k__Bacteria; p__Firmicutes; c__Bacilli; o__Bac...</td>\n",
       "      <td>0.026414</td>\n",
       "      <td>13888.0</td>\n",
       "    </tr>\n",
       "    <tr>\n",
       "      <th>44008</th>\n",
       "      <td>k__Bacteria; p__Firmicutes; c__Bacilli; o__Lac...</td>\n",
       "      <td>0.026107</td>\n",
       "      <td>5515.0</td>\n",
       "    </tr>\n",
       "  </tbody>\n",
       "</table>\n",
       "</div>"
      ],
      "text/plain": [
       "                                                   Taxon  importance     count\n",
       "29442  k__Bacteria; p__Proteobacteria; c__Gammaproteo...    0.043588  262354.0\n",
       "1773   k__Bacteria; p__Actinobacteria; c__Actinobacte...    0.038742   17048.0\n",
       "1916   k__Bacteria; p__Actinobacteria; c__Actinobacte...    0.026586    1595.0\n",
       "1280   k__Bacteria; p__Firmicutes; c__Bacilli; o__Bac...    0.026414   13888.0\n",
       "44008  k__Bacteria; p__Firmicutes; c__Bacilli; o__Lac...    0.026107    5515.0"
      ]
     },
     "execution_count": 81,
     "metadata": {},
     "output_type": "execute_result"
    }
   ],
   "source": [
    "model_features.sort_values(\"importance\", ascending=False).head()"
   ]
  },
  {
   "cell_type": "code",
   "execution_count": 82,
   "metadata": {},
   "outputs": [],
   "source": [
    "model_features.to_csv('{}/{}_model_features_{}.tsv'.format(class_dir, classification_type, version), sep='\\t')"
   ]
  },
  {
   "cell_type": "markdown",
   "metadata": {},
   "source": [
    "##### Samples"
   ]
  },
  {
   "cell_type": "code",
   "execution_count": 83,
   "metadata": {},
   "outputs": [],
   "source": [
    "prediction_s = qiime2.Artifact.load('{}/predictions.qza'.format(cancer_dir)).view(pd.Series)\n",
    "probability_df = qiime2.Artifact.load('{}/probabilities.qza'.format(cancer_dir)).view(pd.DataFrame)\n",
    "estimator = qiime2.Artifact.load('{}/sample_estimator.qza'.format(cancer_dir))"
   ]
  },
  {
   "cell_type": "code",
   "execution_count": 84,
   "metadata": {},
   "outputs": [],
   "source": [
    "estimator.export_data(cancer_dir)"
   ]
  },
  {
   "cell_type": "code",
   "execution_count": 85,
   "metadata": {},
   "outputs": [
    {
     "data": {
      "text/plain": [
       "(26, 2)"
      ]
     },
     "execution_count": 85,
     "metadata": {},
     "output_type": "execute_result"
    }
   ],
   "source": [
    "probability_df.shape"
   ]
  },
  {
   "cell_type": "code",
   "execution_count": 86,
   "metadata": {},
   "outputs": [],
   "source": [
    "prediction_df = pd.DataFrame(data=prediction_s.values, index=prediction_s.index, columns = [\"predicted_label\"])"
   ]
  },
  {
   "cell_type": "code",
   "execution_count": 87,
   "metadata": {},
   "outputs": [],
   "source": [
    "model_predictions = pd.concat([probability_df, prediction_df], axis=1, join='inner')"
   ]
  },
  {
   "cell_type": "code",
   "execution_count": 88,
   "metadata": {},
   "outputs": [
    {
     "data": {
      "text/html": [
       "<div>\n",
       "<style scoped>\n",
       "    .dataframe tbody tr th:only-of-type {\n",
       "        vertical-align: middle;\n",
       "    }\n",
       "\n",
       "    .dataframe tbody tr th {\n",
       "        vertical-align: top;\n",
       "    }\n",
       "\n",
       "    .dataframe thead th {\n",
       "        text-align: right;\n",
       "    }\n",
       "</style>\n",
       "<table border=\"1\" class=\"dataframe\">\n",
       "  <thead>\n",
       "    <tr style=\"text-align: right;\">\n",
       "      <th></th>\n",
       "      <th>cancer</th>\n",
       "      <th>normal</th>\n",
       "      <th>predicted_label</th>\n",
       "    </tr>\n",
       "    <tr>\n",
       "      <th>id</th>\n",
       "      <th></th>\n",
       "      <th></th>\n",
       "      <th></th>\n",
       "    </tr>\n",
       "  </thead>\n",
       "  <tbody>\n",
       "    <tr>\n",
       "      <th>SRR9094464.unmapped</th>\n",
       "      <td>0.967236</td>\n",
       "      <td>0.032764</td>\n",
       "      <td>cancer</td>\n",
       "    </tr>\n",
       "    <tr>\n",
       "      <th>SRR9094551.unmapped</th>\n",
       "      <td>0.131802</td>\n",
       "      <td>0.868198</td>\n",
       "      <td>normal</td>\n",
       "    </tr>\n",
       "    <tr>\n",
       "      <th>SRR9094490.unmapped</th>\n",
       "      <td>0.983494</td>\n",
       "      <td>0.016506</td>\n",
       "      <td>cancer</td>\n",
       "    </tr>\n",
       "    <tr>\n",
       "      <th>SRR9094552.unmapped</th>\n",
       "      <td>0.078115</td>\n",
       "      <td>0.921885</td>\n",
       "      <td>normal</td>\n",
       "    </tr>\n",
       "    <tr>\n",
       "      <th>SRR9094468.unmapped</th>\n",
       "      <td>0.982244</td>\n",
       "      <td>0.017756</td>\n",
       "      <td>cancer</td>\n",
       "    </tr>\n",
       "  </tbody>\n",
       "</table>\n",
       "</div>"
      ],
      "text/plain": [
       "                       cancer    normal predicted_label\n",
       "id                                                     \n",
       "SRR9094464.unmapped  0.967236  0.032764          cancer\n",
       "SRR9094551.unmapped  0.131802  0.868198          normal\n",
       "SRR9094490.unmapped  0.983494  0.016506          cancer\n",
       "SRR9094552.unmapped  0.078115  0.921885          normal\n",
       "SRR9094468.unmapped  0.982244  0.017756          cancer"
      ]
     },
     "execution_count": 88,
     "metadata": {},
     "output_type": "execute_result"
    }
   ],
   "source": [
    "model_predictions.head()"
   ]
  },
  {
   "cell_type": "code",
   "execution_count": 89,
   "metadata": {},
   "outputs": [],
   "source": [
    "model_samples = metadata_df.merge(model_predictions, left_index=True, right_index=True)"
   ]
  },
  {
   "cell_type": "code",
   "execution_count": 90,
   "metadata": {},
   "outputs": [
    {
     "data": {
      "text/html": [
       "<div>\n",
       "<style scoped>\n",
       "    .dataframe tbody tr th:only-of-type {\n",
       "        vertical-align: middle;\n",
       "    }\n",
       "\n",
       "    .dataframe tbody tr th {\n",
       "        vertical-align: top;\n",
       "    }\n",
       "\n",
       "    .dataframe thead th {\n",
       "        text-align: right;\n",
       "    }\n",
       "</style>\n",
       "<table border=\"1\" class=\"dataframe\">\n",
       "  <thead>\n",
       "    <tr style=\"text-align: right;\">\n",
       "      <th></th>\n",
       "      <th>gender</th>\n",
       "      <th>condition</th>\n",
       "      <th>recurrence</th>\n",
       "      <th>cancer</th>\n",
       "      <th>normal</th>\n",
       "      <th>predicted_label</th>\n",
       "    </tr>\n",
       "  </thead>\n",
       "  <tbody>\n",
       "    <tr>\n",
       "      <th>SRR9094428.unmapped</th>\n",
       "      <td>female</td>\n",
       "      <td>cancer</td>\n",
       "      <td>yes</td>\n",
       "      <td>0.951289</td>\n",
       "      <td>0.048711</td>\n",
       "      <td>cancer</td>\n",
       "    </tr>\n",
       "    <tr>\n",
       "      <th>SRR9094443.unmapped</th>\n",
       "      <td>female</td>\n",
       "      <td>cancer</td>\n",
       "      <td>yes</td>\n",
       "      <td>0.992494</td>\n",
       "      <td>0.007506</td>\n",
       "      <td>cancer</td>\n",
       "    </tr>\n",
       "    <tr>\n",
       "      <th>SRR9094453.unmapped</th>\n",
       "      <td>female</td>\n",
       "      <td>cancer</td>\n",
       "      <td>yes</td>\n",
       "      <td>0.970331</td>\n",
       "      <td>0.029669</td>\n",
       "      <td>cancer</td>\n",
       "    </tr>\n",
       "    <tr>\n",
       "      <th>SRR9094458.unmapped</th>\n",
       "      <td>female</td>\n",
       "      <td>cancer</td>\n",
       "      <td>no</td>\n",
       "      <td>0.981522</td>\n",
       "      <td>0.018478</td>\n",
       "      <td>cancer</td>\n",
       "    </tr>\n",
       "    <tr>\n",
       "      <th>SRR9094460.unmapped</th>\n",
       "      <td>female</td>\n",
       "      <td>cancer</td>\n",
       "      <td>no</td>\n",
       "      <td>0.979855</td>\n",
       "      <td>0.020145</td>\n",
       "      <td>cancer</td>\n",
       "    </tr>\n",
       "  </tbody>\n",
       "</table>\n",
       "</div>"
      ],
      "text/plain": [
       "                     gender condition recurrence    cancer    normal  \\\n",
       "SRR9094428.unmapped  female    cancer        yes  0.951289  0.048711   \n",
       "SRR9094443.unmapped  female    cancer        yes  0.992494  0.007506   \n",
       "SRR9094453.unmapped  female    cancer        yes  0.970331  0.029669   \n",
       "SRR9094458.unmapped  female    cancer         no  0.981522  0.018478   \n",
       "SRR9094460.unmapped  female    cancer         no  0.979855  0.020145   \n",
       "\n",
       "                    predicted_label  \n",
       "SRR9094428.unmapped          cancer  \n",
       "SRR9094443.unmapped          cancer  \n",
       "SRR9094453.unmapped          cancer  \n",
       "SRR9094458.unmapped          cancer  \n",
       "SRR9094460.unmapped          cancer  "
      ]
     },
     "execution_count": 90,
     "metadata": {},
     "output_type": "execute_result"
    }
   ],
   "source": [
    "model_samples.head()"
   ]
  },
  {
   "cell_type": "code",
   "execution_count": 91,
   "metadata": {},
   "outputs": [],
   "source": [
    "model_samples.to_csv('{}/{}_model_predictions_{}.tsv'.format(class_dir, classification_type, version), sep='\\t')"
   ]
  }
 ],
 "metadata": {
  "kernelspec": {
   "display_name": "qiime2-2020.2",
   "language": "python",
   "name": "qiime2-2020.2"
  },
  "language_info": {
   "codemirror_mode": {
    "name": "ipython",
    "version": 3
   },
   "file_extension": ".py",
   "mimetype": "text/x-python",
   "name": "python",
   "nbconvert_exporter": "python",
   "pygments_lexer": "ipython3",
   "version": "3.6.7"
  }
 },
 "nbformat": 4,
 "nbformat_minor": 4
}
