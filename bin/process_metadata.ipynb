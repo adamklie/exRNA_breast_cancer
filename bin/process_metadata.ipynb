{
 "cells": [
  {
   "cell_type": "markdown",
   "metadata": {},
   "source": [
    "# Process metadata from SRP198979\n",
    "#### Adam Klie<br>05/23/2020\n",
    "Get accession list (SRR_Acc_List.txt) and run table (SraRunTable.txt) from https://trace.ncbi.nlm.nih.gov/Traces/study/?acc=SRP198979&o=acc_s%3Aa"
   ]
  },
  {
   "cell_type": "code",
   "execution_count": 18,
   "metadata": {},
   "outputs": [],
   "source": [
    "import pandas as pd\n",
    "import numpy as np"
   ]
  },
  {
   "cell_type": "markdown",
   "metadata": {},
   "source": [
    "### Get SRR IDs for data download\n",
    "Need a list of SRR IDS to use fastq-dump to get the raw fastq data. Pull these out from `SraRunTable.txt`"
   ]
  },
  {
   "cell_type": "code",
   "execution_count": 19,
   "metadata": {},
   "outputs": [],
   "source": [
    "data_dir = '/home/aklie/scratch/exRNA_breast_cancer/fastq'"
   ]
  },
  {
   "cell_type": "code",
   "execution_count": 20,
   "metadata": {},
   "outputs": [],
   "source": [
    "metadata = pd.read_csv('{}/SraRunTable.txt'.format(data_dir))"
   ]
  },
  {
   "cell_type": "code",
   "execution_count": 21,
   "metadata": {},
   "outputs": [
    {
     "data": {
      "text/plain": [
       "Index(['Run', 'Age', 'Assay Type', 'AvgSpotLen', 'Bases', 'BioProject',\n",
       "       'BioSample', 'Bytes', 'Center Name', 'Condition', 'Consent',\n",
       "       'DATASTORE filetype', 'DATASTORE provider', 'DATASTORE region',\n",
       "       'Experiment', 'gender', 'GEO_Accession (exp)', 'Instrument',\n",
       "       'library_construction_method', 'LibraryLayout', 'LibrarySelection',\n",
       "       'LibrarySource', 'Organism', 'Platform', 'ReleaseDate', 'Sample Name',\n",
       "       'source_name', 'SRA Study'],\n",
       "      dtype='object')"
      ]
     },
     "execution_count": 21,
     "metadata": {},
     "output_type": "execute_result"
    }
   ],
   "source": [
    "metadata.columns"
   ]
  },
  {
   "cell_type": "code",
   "execution_count": 22,
   "metadata": {},
   "outputs": [],
   "source": [
    "# Total dataset contains 128 index files that we don't need for this analysis, remove them with this line\n",
    "non_index = metadata[(metadata[\"AvgSpotLen\"] == 75) | (metadata[\"AvgSpotLen\"] == 51)]"
   ]
  },
  {
   "cell_type": "code",
   "execution_count": 23,
   "metadata": {},
   "outputs": [],
   "source": [
    "# Get a list of SRR ids and save as input to download_data.sh\n",
    "srrs = non_index[\"Run\"].values\n",
    "with open('{}/SRR_Acc_List_NonIndex.txt'.format(data_dir), 'w') as filehandle:\n",
    "    filehandle.writelines(\"%s\\n\" % id for id in srrs)"
   ]
  },
  {
   "cell_type": "markdown",
   "metadata": {},
   "source": [
    "### Generate metadata for Qiime2\n",
    "For easy Qiime2 analysis, build a metadata table with sampleid (SRR ID), gender, cancer occurence, and recurrence metadata"
   ]
  },
  {
   "cell_type": "code",
   "execution_count": 24,
   "metadata": {},
   "outputs": [
    {
     "name": "stderr",
     "output_type": "stream",
     "text": [
      "/home/aklie/.local/lib/python3.7/site-packages/ipykernel_launcher.py:1: SettingWithCopyWarning: \n",
      "A value is trying to be set on a copy of a slice from a DataFrame.\n",
      "Try using .loc[row_indexer,col_indexer] = value instead\n",
      "\n",
      "See the caveats in the documentation: http://pandas.pydata.org/pandas-docs/stable/user_guide/indexing.html#returning-a-view-versus-a-copy\n",
      "  \"\"\"Entry point for launching an IPython kernel.\n"
     ]
    }
   ],
   "source": [
    "non_index[\"sampleid\"] = non_index[\"Run\"] + \".unmapped\""
   ]
  },
  {
   "cell_type": "code",
   "execution_count": 25,
   "metadata": {},
   "outputs": [],
   "source": [
    "# Simple functions to generate useful metadata columns\n",
    "def addCancerColumn(x):\n",
    "    if \"breast cancer\" in x[\"Condition\"]:\n",
    "        return \"cancer\"\n",
    "    else:\n",
    "        return \"normal\"\n",
    "\n",
    "def addRecurrenceColumn(x):\n",
    "    if x[\"condition\"] == \"cancer\":\n",
    "        if \"with recurrence\" in x[\"Condition\"]:\n",
    "            return \"yes\"\n",
    "        else:\n",
    "            return \"no\"\n",
    "    else:\n",
    "        return np.nan"
   ]
  },
  {
   "cell_type": "code",
   "execution_count": 26,
   "metadata": {},
   "outputs": [
    {
     "name": "stderr",
     "output_type": "stream",
     "text": [
      "/home/aklie/.local/lib/python3.7/site-packages/ipykernel_launcher.py:2: SettingWithCopyWarning: \n",
      "A value is trying to be set on a copy of a slice from a DataFrame.\n",
      "Try using .loc[row_indexer,col_indexer] = value instead\n",
      "\n",
      "See the caveats in the documentation: http://pandas.pydata.org/pandas-docs/stable/user_guide/indexing.html#returning-a-view-versus-a-copy\n",
      "  \n"
     ]
    }
   ],
   "source": [
    "# Get a condition column specifying whether sample is from cancer or normal\n",
    "non_index[\"condition\"] = non_index.apply(addCancerColumn, 1)"
   ]
  },
  {
   "cell_type": "code",
   "execution_count": 27,
   "metadata": {},
   "outputs": [
    {
     "name": "stderr",
     "output_type": "stream",
     "text": [
      "/home/aklie/.local/lib/python3.7/site-packages/ipykernel_launcher.py:2: SettingWithCopyWarning: \n",
      "A value is trying to be set on a copy of a slice from a DataFrame.\n",
      "Try using .loc[row_indexer,col_indexer] = value instead\n",
      "\n",
      "See the caveats in the documentation: http://pandas.pydata.org/pandas-docs/stable/user_guide/indexing.html#returning-a-view-versus-a-copy\n",
      "  \n"
     ]
    }
   ],
   "source": [
    "# Get a recurrence column specifying whether cancer patient showed cancer recurrence or did not\n",
    "non_index[\"recurrence\"] = non_index.apply(addRecurrenceColumn, 1)"
   ]
  },
  {
   "cell_type": "code",
   "execution_count": 28,
   "metadata": {},
   "outputs": [
    {
     "name": "stdout",
     "output_type": "stream",
     "text": [
      "cancer    96\n",
      "normal    32\n",
      "Name: condition, dtype: int64\n",
      "no     68\n",
      "yes    28\n",
      "Name: recurrence, dtype: int64\n"
     ]
    }
   ],
   "source": [
    "# Make sure values match up with expected: 96 cancer samples and 32 normal, 68 no recurrence, 28 recurrence\n",
    "print(non_index[\"condition\"].value_counts())\n",
    "print(non_index[\"recurrence\"].value_counts())"
   ]
  },
  {
   "cell_type": "code",
   "execution_count": 29,
   "metadata": {},
   "outputs": [
    {
     "data": {
      "text/html": [
       "<div>\n",
       "<style scoped>\n",
       "    .dataframe tbody tr th:only-of-type {\n",
       "        vertical-align: middle;\n",
       "    }\n",
       "\n",
       "    .dataframe tbody tr th {\n",
       "        vertical-align: top;\n",
       "    }\n",
       "\n",
       "    .dataframe thead th {\n",
       "        text-align: right;\n",
       "    }\n",
       "</style>\n",
       "<table border=\"1\" class=\"dataframe\">\n",
       "  <thead>\n",
       "    <tr style=\"text-align: right;\">\n",
       "      <th></th>\n",
       "      <th>sampleid</th>\n",
       "      <th>gender</th>\n",
       "      <th>condition</th>\n",
       "      <th>recurrence</th>\n",
       "    </tr>\n",
       "  </thead>\n",
       "  <tbody>\n",
       "    <tr>\n",
       "      <th>128</th>\n",
       "      <td>SRR9094428.unmapped</td>\n",
       "      <td>female</td>\n",
       "      <td>cancer</td>\n",
       "      <td>yes</td>\n",
       "    </tr>\n",
       "    <tr>\n",
       "      <th>129</th>\n",
       "      <td>SRR9094429.unmapped</td>\n",
       "      <td>female</td>\n",
       "      <td>cancer</td>\n",
       "      <td>yes</td>\n",
       "    </tr>\n",
       "    <tr>\n",
       "      <th>130</th>\n",
       "      <td>SRR9094430.unmapped</td>\n",
       "      <td>female</td>\n",
       "      <td>cancer</td>\n",
       "      <td>yes</td>\n",
       "    </tr>\n",
       "    <tr>\n",
       "      <th>131</th>\n",
       "      <td>SRR9094431.unmapped</td>\n",
       "      <td>female</td>\n",
       "      <td>cancer</td>\n",
       "      <td>yes</td>\n",
       "    </tr>\n",
       "    <tr>\n",
       "      <th>132</th>\n",
       "      <td>SRR9094432.unmapped</td>\n",
       "      <td>female</td>\n",
       "      <td>cancer</td>\n",
       "      <td>yes</td>\n",
       "    </tr>\n",
       "  </tbody>\n",
       "</table>\n",
       "</div>"
      ],
      "text/plain": [
       "                sampleid  gender condition recurrence\n",
       "128  SRR9094428.unmapped  female    cancer        yes\n",
       "129  SRR9094429.unmapped  female    cancer        yes\n",
       "130  SRR9094430.unmapped  female    cancer        yes\n",
       "131  SRR9094431.unmapped  female    cancer        yes\n",
       "132  SRR9094432.unmapped  female    cancer        yes"
      ]
     },
     "execution_count": 29,
     "metadata": {},
     "output_type": "execute_result"
    }
   ],
   "source": [
    "# Simplify table\n",
    "sample_metadata = non_index[[\"sampleid\", \"gender\", \"condition\", \"recurrence\"]]\n",
    "sample_metadata.head()"
   ]
  },
  {
   "cell_type": "code",
   "execution_count": 30,
   "metadata": {},
   "outputs": [],
   "source": [
    "# Save table as tsv for Qiime2 use\n",
    "sample_metadata.to_csv('{}/sample_metadata.tsv'.format(data_dir), sep='\\t', index=False)"
   ]
  },
  {
   "cell_type": "code",
   "execution_count": 34,
   "metadata": {},
   "outputs": [],
   "source": [
    "# Generate a metadata file for only recurrence patients\n",
    "recurrence_metadata = sample_metadata[sample_metadata[\"recurrence\"].notna()]\n",
    "recurrence_metadata.to_csv('{}/recurrence_metadata.tsv'.format(data_dir), sep='\\t', index=False)"
   ]
  }
 ],
 "metadata": {
  "kernelspec": {
   "display_name": "utilities",
   "language": "python",
   "name": "utilities"
  },
  "language_info": {
   "codemirror_mode": {
    "name": "ipython",
    "version": 3
   },
   "file_extension": ".py",
   "mimetype": "text/x-python",
   "name": "python",
   "nbconvert_exporter": "python",
   "pygments_lexer": "ipython3",
   "version": "3.7.6"
  }
 },
 "nbformat": 4,
 "nbformat_minor": 2
}
